{
 "cells": [
  {
   "cell_type": "code",
   "execution_count": 1,
   "id": "8e05c9ed",
   "metadata": {},
   "outputs": [],
   "source": [
    "# импорт необходимых библиотек\n",
    "import pandas as pd\n",
    "import numpy as np\n",
    "import os\n",
    "import geopandas as gpd\n",
    "import seaborn as sns\n",
    "import matplotlib.pyplot as plt\n",
    "import matplotlib as mpl\n",
    "\n",
    "%matplotlib inline"
   ]
  },
  {
   "cell_type": "code",
   "execution_count": 2,
   "id": "87aa04be",
   "metadata": {},
   "outputs": [
    {
     "data": {
      "image/png": "[encoded data removed]",
      "text/plain": [
       "<Figure size 2000x100 with 1 Axes>"
      ]
     },
     "metadata": {},
     "output_type": "display_data"
    }
   ],
   "source": [
    "# задание палитры цветов\n",
    "color_palette = sns.light_palette('red', n_colors=20, reverse=True)\n",
    "sns.palplot(color_palette)\n",
    "plt.show()"
   ]
  },
  {
   "cell_type": "code",
   "execution_count": 3,
   "id": "5b703d05",
   "metadata": {},
   "outputs": [
    {
     "data": {
      "image/png": "[encoded data removed]",
      "text/plain": [
       "<Figure size 500x100 with 1 Axes>"
      ]
     },
     "metadata": {},
     "output_type": "display_data"
    }
   ],
   "source": [
    "# задание палитры цветов\n",
    "colors = ['#a70000', '#ff0000', '#ff5252', '#ff7b7b', '#ffbaba']\n",
    "sns.palplot(sns.color_palette(colors))"
   ]
  },
  {
   "cell_type": "code",
   "execution_count": 4,
   "id": "4c7a178a",
   "metadata": {},
   "outputs": [],
   "source": [
    "import matplotlib.colors as mcolors\n",
    "\n",
    "\n",
    "def make_colormap(seq):\n",
    "    \n",
    "    \"\"\" функция создания пользовательского\n",
    "            масштабируемого цвета \"\"\"\n",
    "    \n",
    "    seq = [(None,) * 3, 0.0] + list(seq) + [1.0, (None,) * 3]\n",
    "    cdict = {'red': [], 'green': [], 'blue': []}\n",
    "    for i, item in enumerate(seq):\n",
    "        if isinstance(item, float):\n",
    "            r1, g1, b1 = seq[i - 1]\n",
    "            r2, g2, b2 = seq[i + 1]\n",
    "            cdict['red'].append([item, r1, r2])\n",
    "            cdict['green'].append([item, g1, g2])\n",
    "            cdict['blue'].append([item, b1, b2])\n",
    "    return mcolors.LinearSegmentedColormap('CustomMap', cdict)"
   ]
  },
  {
   "cell_type": "code",
   "execution_count": 5,
   "id": "e3897709",
   "metadata": {},
   "outputs": [],
   "source": [
    "# задание палитры цветов красного\n",
    "c = mcolors.ColorConverter().to_rgb\n",
    "rvb = make_colormap([c('darkred'), c('brown'), 0.20, c('brown'), c('red'), 0.40, c('red'), \\\n",
    "                     c('indianred'), 0.60, c('indianred'), c('lightcoral'), 0.80, c('lightcoral')])"
   ]
  },
  {
   "cell_type": "code",
   "execution_count": 6,
   "id": "4a39f6e4",
   "metadata": {},
   "outputs": [
    {
     "data": {
      "image/png": "[encoded data removed]",
      "text/html": [
       "<div style=\"vertical-align: middle;\"><strong>CustomMap</strong> </div><div class=\"cmap\"><img alt=\"CustomMap colormap\" title=\"CustomMap\" style=\"border: 1px solid #555;\" src=\"data:image/png;base64,iVBORw0KGgoAAAANSUhEUgAAAgAAAABACAYAAABsv8+/AAAAGHRFWHRUaXRsZQBDdXN0b21NYXAgY29sb3JtYXA7Eq9pAAAAHnRFWHREZXNjcmlwdGlvbgBDdXN0b21NYXAgY29sb3JtYXB5iUniAAAAMHRFWHRBdXRob3IATWF0cGxvdGxpYiB2My41LjMsIGh0dHBzOi8vbWF0cGxvdGxpYi5vcmdn0eiSAAAAMnRFWHRTb2Z0d2FyZQBNYXRwbG90bGliIHYzLjUuMywgaHR0cHM6Ly9tYXRwbG90bGliLm9yZ0l3d7UAAAGJSURBVHic7dbRaoMwAEBR9ff30e5h2g5Za1ZoO3bPeUlNYrCIcOePaVqnb+Z53n/8fH3d+N79o8/77P1P+n+Xcf16PcuN8bK+HXtz/Tjuj3Fy/ui+2nOs2/tZl+X+aN9L9k37uDl+R7+eP3yvw/OP3jd43vD8o/ednHddHps/rvO3LOdbAID/RgAAQJAAAIAgAQAAQQIAAIIEAAAECQAACBIAABAkAAAgSAAAQJAAAIAgAQAAQQIAAIIEAAAECQAACBIAABAkAAAgSAAAQJAAAIAgAQAAQQIAAIIEAAAECQAACBIAABAkAAAgSAAAQJAAAIAgAQAAQQIAAIIEAAAECQAACBIAABAkAAAgSAAAQJAAAIAgAQAAQQIAAIIEAAAECQAACBIAABAkAAAgSAAAQJAAAIAgAQAAQQIAAIIEAAAECQAACBIAABAkAAAgSAAAQJAAAIAgAQAAQQIAAIIEAAAECQAACBIAABAkAAAgSAAAQJAAAIAgAQAAQQIAAIIEAAAECQAACPoEh9iJb1rVXhEAAAAASUVORK5CYII=\"></div><div style=\"vertical-align: middle; max-width: 514px; display: flex; justify-content: space-between;\"><div style=\"float: left;\"><div title=\"#8b0000ff\" style=\"display: inline-block; width: 1em; height: 1em; margin: 0; vertical-align: middle; border: 1px solid #555; background-color: #8b0000ff;\"></div> under</div><div style=\"margin: 0 auto; display: inline-block;\">bad <div title=\"#00000000\" style=\"display: inline-block; width: 1em; height: 1em; margin: 0; vertical-align: middle; border: 1px solid #555; background-color: #00000000;\"></div></div><div style=\"float: right;\">over <div title=\"#f08080ff\" style=\"display: inline-block; width: 1em; height: 1em; margin: 0; vertical-align: middle; border: 1px solid #555; background-color: #f08080ff;\"></div></div>"
      ],
      "text/plain": [
       "<matplotlib.colors.LinearSegmentedColormap at 0x15c071dd780>"
      ]
     },
     "execution_count": 6,
     "metadata": {},
     "output_type": "execute_result"
    }
   ],
   "source": [
    "# вывод пользовательской палитры\n",
    "rvb"
   ]
  },
  {
   "cell_type": "code",
   "execution_count": 7,
   "id": "31631b60",
   "metadata": {},
   "outputs": [],
   "source": [
    "# считывание данных с геоданными Московской агломерации\n",
    "adm = pd.read_csv('data_clean/adm.csv')"
   ]
  },
  {
   "cell_type": "code",
   "execution_count": 8,
   "id": "9232452c",
   "metadata": {},
   "outputs": [
    {
     "data": {
      "text/html": [
       "<div>\n",
       "<style scoped>\n",
       "    .dataframe tbody tr th:only-of-type {\n",
       "        vertical-align: middle;\n",
       "    }\n",
       "\n",
       "    .dataframe tbody tr th {\n",
       "        vertical-align: top;\n",
       "    }\n",
       "\n",
       "    .dataframe thead th {\n",
       "        text-align: right;\n",
       "    }\n",
       "</style>\n",
       "<table border=\"1\" class=\"dataframe\">\n",
       "  <thead>\n",
       "    <tr style=\"text-align: right;\">\n",
       "      <th></th>\n",
       "      <th>geometry</th>\n",
       "      <th>cell_zid</th>\n",
       "      <th>adm_name</th>\n",
       "      <th>okrug_name</th>\n",
       "      <th>sub_ter</th>\n",
       "      <th>area</th>\n",
       "      <th>conts_zid</th>\n",
       "    </tr>\n",
       "  </thead>\n",
       "  <tbody>\n",
       "    <tr>\n",
       "      <th>0</th>\n",
       "      <td>MULTIPOLYGON (((38.6495389842383 54.2597139180...</td>\n",
       "      <td>0</td>\n",
       "      <td>Серебряные пруды</td>\n",
       "      <td>Серебряные пруды</td>\n",
       "      <td>Московская область</td>\n",
       "      <td>0.25</td>\n",
       "      <td>1</td>\n",
       "    </tr>\n",
       "    <tr>\n",
       "      <th>1</th>\n",
       "      <td>MULTIPOLYGON (((38.6549362377517 54.2572466621...</td>\n",
       "      <td>1</td>\n",
       "      <td>Серебряные пруды</td>\n",
       "      <td>Серебряные пруды</td>\n",
       "      <td>Московская область</td>\n",
       "      <td>0.25</td>\n",
       "      <td>1</td>\n",
       "    </tr>\n",
       "    <tr>\n",
       "      <th>2</th>\n",
       "      <td>MULTIPOLYGON (((38.6625773861122 54.2560891872...</td>\n",
       "      <td>2</td>\n",
       "      <td>Серебряные пруды</td>\n",
       "      <td>Серебряные пруды</td>\n",
       "      <td>Московская область</td>\n",
       "      <td>0.25</td>\n",
       "      <td>1</td>\n",
       "    </tr>\n",
       "    <tr>\n",
       "      <th>3</th>\n",
       "      <td>MULTIPOLYGON (((38.670279125503 54.25708620909...</td>\n",
       "      <td>3</td>\n",
       "      <td>Серебряные пруды</td>\n",
       "      <td>Серебряные пруды</td>\n",
       "      <td>Московская область</td>\n",
       "      <td>0.25</td>\n",
       "      <td>1</td>\n",
       "    </tr>\n",
       "    <tr>\n",
       "      <th>4</th>\n",
       "      <td>MULTIPOLYGON (((38.6779821287111 54.2581143832...</td>\n",
       "      <td>4</td>\n",
       "      <td>Серебряные пруды</td>\n",
       "      <td>Серебряные пруды</td>\n",
       "      <td>Московская область</td>\n",
       "      <td>0.25</td>\n",
       "      <td>1</td>\n",
       "    </tr>\n",
       "  </tbody>\n",
       "</table>\n",
       "</div>"
      ],
      "text/plain": [
       "                                            geometry  cell_zid  \\\n",
       "0  MULTIPOLYGON (((38.6495389842383 54.2597139180...         0   \n",
       "1  MULTIPOLYGON (((38.6549362377517 54.2572466621...         1   \n",
       "2  MULTIPOLYGON (((38.6625773861122 54.2560891872...         2   \n",
       "3  MULTIPOLYGON (((38.670279125503 54.25708620909...         3   \n",
       "4  MULTIPOLYGON (((38.6779821287111 54.2581143832...         4   \n",
       "\n",
       "           adm_name        okrug_name             sub_ter  area  conts_zid  \n",
       "0  Серебряные пруды  Серебряные пруды  Московская область  0.25          1  \n",
       "1  Серебряные пруды  Серебряные пруды  Московская область  0.25          1  \n",
       "2  Серебряные пруды  Серебряные пруды  Московская область  0.25          1  \n",
       "3  Серебряные пруды  Серебряные пруды  Московская область  0.25          1  \n",
       "4  Серебряные пруды  Серебряные пруды  Московская область  0.25          1  "
      ]
     },
     "execution_count": 8,
     "metadata": {},
     "output_type": "execute_result"
    }
   ],
   "source": [
    "# вывод данных\n",
    "adm.head()"
   ]
  },
  {
   "cell_type": "code",
   "execution_count": 9,
   "id": "98f21404",
   "metadata": {},
   "outputs": [],
   "source": [
    "# импорт библиотеки для работы с географическими координатами\n",
    "from shapely import wkt"
   ]
  },
  {
   "cell_type": "code",
   "execution_count": 10,
   "id": "fd005c0f",
   "metadata": {},
   "outputs": [],
   "source": [
    "# преобразование признака в географические координаты\n",
    "adm['geometry'] = adm['geometry'].apply(wkt.loads)"
   ]
  },
  {
   "cell_type": "code",
   "execution_count": 11,
   "id": "32ababc5",
   "metadata": {},
   "outputs": [],
   "source": [
    "# задание геометрии DataFrame\n",
    "adm = adm.set_geometry('geometry')"
   ]
  },
  {
   "cell_type": "code",
   "execution_count": 12,
   "id": "f65083b8",
   "metadata": {},
   "outputs": [],
   "source": [
    "# расчет центров сектора\n",
    "adm['centroid'] = adm['geometry'].centroid"
   ]
  },
  {
   "cell_type": "markdown",
   "id": "1db4e21a",
   "metadata": {},
   "source": [
    "### Анализ корреспонденции дом-работа по секторам Московской агломерации"
   ]
  },
  {
   "cell_type": "code",
   "execution_count": 13,
   "id": "c7d69683",
   "metadata": {},
   "outputs": [],
   "source": [
    "# считывание данных корреспонденции дом-работа\n",
    "cmatrix_home_work = pd.read_csv('data/04_CMatrix_Home_work_202109.csv')"
   ]
  },
  {
   "cell_type": "code",
   "execution_count": 14,
   "id": "9a56f057",
   "metadata": {},
   "outputs": [
    {
     "data": {
      "text/html": [
       "<div>\n",
       "<style scoped>\n",
       "    .dataframe tbody tr th:only-of-type {\n",
       "        vertical-align: middle;\n",
       "    }\n",
       "\n",
       "    .dataframe tbody tr th {\n",
       "        vertical-align: top;\n",
       "    }\n",
       "\n",
       "    .dataframe thead th {\n",
       "        text-align: right;\n",
       "    }\n",
       "</style>\n",
       "<table border=\"1\" class=\"dataframe\">\n",
       "  <thead>\n",
       "    <tr style=\"text-align: right;\">\n",
       "      <th></th>\n",
       "      <th>dt</th>\n",
       "      <th>home_zid</th>\n",
       "      <th>work_zid</th>\n",
       "      <th>customers_cnt</th>\n",
       "    </tr>\n",
       "  </thead>\n",
       "  <tbody>\n",
       "    <tr>\n",
       "      <th>0</th>\n",
       "      <td>2021-09-30</td>\n",
       "      <td>32909</td>\n",
       "      <td>-1</td>\n",
       "      <td>1</td>\n",
       "    </tr>\n",
       "    <tr>\n",
       "      <th>1</th>\n",
       "      <td>2021-09-30</td>\n",
       "      <td>32910</td>\n",
       "      <td>-1</td>\n",
       "      <td>2</td>\n",
       "    </tr>\n",
       "    <tr>\n",
       "      <th>2</th>\n",
       "      <td>2021-09-30</td>\n",
       "      <td>33262</td>\n",
       "      <td>95037</td>\n",
       "      <td>1</td>\n",
       "    </tr>\n",
       "    <tr>\n",
       "      <th>3</th>\n",
       "      <td>2021-09-30</td>\n",
       "      <td>33264</td>\n",
       "      <td>-1</td>\n",
       "      <td>2</td>\n",
       "    </tr>\n",
       "    <tr>\n",
       "      <th>4</th>\n",
       "      <td>2021-09-30</td>\n",
       "      <td>33614</td>\n",
       "      <td>-1</td>\n",
       "      <td>2</td>\n",
       "    </tr>\n",
       "  </tbody>\n",
       "</table>\n",
       "</div>"
      ],
      "text/plain": [
       "           dt  home_zid  work_zid  customers_cnt\n",
       "0  2021-09-30     32909        -1              1\n",
       "1  2021-09-30     32910        -1              2\n",
       "2  2021-09-30     33262     95037              1\n",
       "3  2021-09-30     33264        -1              2\n",
       "4  2021-09-30     33614        -1              2"
      ]
     },
     "execution_count": 14,
     "metadata": {},
     "output_type": "execute_result"
    }
   ],
   "source": [
    "# вывод данных\n",
    "cmatrix_home_work.head()"
   ]
  },
  {
   "cell_type": "code",
   "execution_count": 15,
   "id": "1b74c54f",
   "metadata": {},
   "outputs": [
    {
     "data": {
      "text/plain": [
       "dt               0\n",
       "home_zid         0\n",
       "work_zid         0\n",
       "customers_cnt    0\n",
       "dtype: int64"
      ]
     },
     "execution_count": 15,
     "metadata": {},
     "output_type": "execute_result"
    }
   ],
   "source": [
    "# проверка на наличие пропусков\n",
    "cmatrix_home_work.isna().sum()"
   ]
  },
  {
   "cell_type": "code",
   "execution_count": 16,
   "id": "220d8409",
   "metadata": {},
   "outputs": [
    {
     "data": {
      "text/plain": [
       "dt               object\n",
       "home_zid          int64\n",
       "work_zid          int64\n",
       "customers_cnt     int64\n",
       "dtype: object"
      ]
     },
     "execution_count": 16,
     "metadata": {},
     "output_type": "execute_result"
    }
   ],
   "source": [
    "# тип данных\n",
    "cmatrix_home_work.dtypes"
   ]
  },
  {
   "cell_type": "code",
   "execution_count": 17,
   "id": "cf7cd320",
   "metadata": {},
   "outputs": [],
   "source": [
    "# смена типа данных\n",
    "cmatrix_home_work['dt'] = pd.to_datetime(cmatrix_home_work['dt'])"
   ]
  },
  {
   "cell_type": "code",
   "execution_count": 18,
   "id": "cd414aa6",
   "metadata": {},
   "outputs": [
    {
     "data": {
      "text/plain": [
       "min   2021-09-30\n",
       "max   2021-09-30\n",
       "Name: dt, dtype: datetime64[ns]"
      ]
     },
     "execution_count": 18,
     "metadata": {},
     "output_type": "execute_result"
    }
   ],
   "source": [
    "# период сбора данных\n",
    "cmatrix_home_work['dt'].agg(['min', 'max'])"
   ]
  },
  {
   "cell_type": "markdown",
   "id": "b6069e69",
   "metadata": {},
   "source": [
    "Данные по корреспонденции дом-работа численности населения Московской агломерации собраны за **30 сентября 2021 г.**"
   ]
  },
  {
   "cell_type": "code",
   "execution_count": 19,
   "id": "83352e42",
   "metadata": {},
   "outputs": [],
   "source": [
    "# удаление признака даты\n",
    "cmatrix_home_work.drop(columns='dt', inplace=True)"
   ]
  },
  {
   "cell_type": "code",
   "execution_count": 20,
   "id": "bfc47e6e",
   "metadata": {},
   "outputs": [
    {
     "data": {
      "text/html": [
       "<div>\n",
       "<style scoped>\n",
       "    .dataframe tbody tr th:only-of-type {\n",
       "        vertical-align: middle;\n",
       "    }\n",
       "\n",
       "    .dataframe tbody tr th {\n",
       "        vertical-align: top;\n",
       "    }\n",
       "\n",
       "    .dataframe thead th {\n",
       "        text-align: right;\n",
       "    }\n",
       "</style>\n",
       "<table border=\"1\" class=\"dataframe\">\n",
       "  <thead>\n",
       "    <tr style=\"text-align: right;\">\n",
       "      <th></th>\n",
       "      <th>home_zid</th>\n",
       "      <th>work_zid</th>\n",
       "      <th>customers_cnt</th>\n",
       "    </tr>\n",
       "  </thead>\n",
       "  <tbody>\n",
       "    <tr>\n",
       "      <th>0</th>\n",
       "      <td>32909</td>\n",
       "      <td>-1</td>\n",
       "      <td>1</td>\n",
       "    </tr>\n",
       "    <tr>\n",
       "      <th>1</th>\n",
       "      <td>32910</td>\n",
       "      <td>-1</td>\n",
       "      <td>2</td>\n",
       "    </tr>\n",
       "    <tr>\n",
       "      <th>2</th>\n",
       "      <td>33262</td>\n",
       "      <td>95037</td>\n",
       "      <td>1</td>\n",
       "    </tr>\n",
       "    <tr>\n",
       "      <th>3</th>\n",
       "      <td>33264</td>\n",
       "      <td>-1</td>\n",
       "      <td>2</td>\n",
       "    </tr>\n",
       "    <tr>\n",
       "      <th>4</th>\n",
       "      <td>33614</td>\n",
       "      <td>-1</td>\n",
       "      <td>2</td>\n",
       "    </tr>\n",
       "  </tbody>\n",
       "</table>\n",
       "</div>"
      ],
      "text/plain": [
       "   home_zid  work_zid  customers_cnt\n",
       "0     32909        -1              1\n",
       "1     32910        -1              2\n",
       "2     33262     95037              1\n",
       "3     33264        -1              2\n",
       "4     33614        -1              2"
      ]
     },
     "execution_count": 20,
     "metadata": {},
     "output_type": "execute_result"
    }
   ],
   "source": [
    "# вывод данных\n",
    "cmatrix_home_work.head()"
   ]
  },
  {
   "cell_type": "code",
   "execution_count": 21,
   "id": "96204015",
   "metadata": {},
   "outputs": [
    {
     "data": {
      "text/plain": [
       "0.29058075164758523"
      ]
     },
     "execution_count": 21,
     "metadata": {},
     "output_type": "execute_result"
    }
   ],
   "source": [
    "# процентное соотношение соответствия секторов дом/работа\n",
    "(cmatrix_home_work['home_zid'] == cmatrix_home_work['work_zid']).sum() / cmatrix_home_work.shape[0] * 100"
   ]
  },
  {
   "cell_type": "markdown",
   "id": "756a36f0",
   "metadata": {},
   "source": [
    "Количество данных где место работы совпадает с местом проживания состовляет **0.3%**."
   ]
  },
  {
   "cell_type": "code",
   "execution_count": 22,
   "id": "fec8e5eb",
   "metadata": {},
   "outputs": [
    {
     "data": {
      "text/plain": [
       "0.47786397097387967"
      ]
     },
     "execution_count": 22,
     "metadata": {},
     "output_type": "execute_result"
    }
   ],
   "source": [
    "# процентное соотношение место работы не определено или же находится за пределами московской агломерации\n",
    "(cmatrix_home_work['work_zid'] == -1).sum() / cmatrix_home_work.shape[0] * 100"
   ]
  },
  {
   "cell_type": "markdown",
   "id": "a9133c1d",
   "metadata": {},
   "source": [
    "Количество данных с не определенным местом работы не значительно и составляет **0.5%**. \\\n",
    "В связи с чем исключим данные показатели из анализа."
   ]
  },
  {
   "cell_type": "code",
   "execution_count": 23,
   "id": "f2159991",
   "metadata": {},
   "outputs": [
    {
     "data": {
      "text/html": [
       "<div>\n",
       "<style scoped>\n",
       "    .dataframe tbody tr th:only-of-type {\n",
       "        vertical-align: middle;\n",
       "    }\n",
       "\n",
       "    .dataframe tbody tr th {\n",
       "        vertical-align: top;\n",
       "    }\n",
       "\n",
       "    .dataframe thead th {\n",
       "        text-align: right;\n",
       "    }\n",
       "</style>\n",
       "<table border=\"1\" class=\"dataframe\">\n",
       "  <thead>\n",
       "    <tr style=\"text-align: right;\">\n",
       "      <th></th>\n",
       "      <th>home_zid</th>\n",
       "      <th>work_zid</th>\n",
       "      <th>customers_cnt</th>\n",
       "    </tr>\n",
       "  </thead>\n",
       "  <tbody>\n",
       "    <tr>\n",
       "      <th>2</th>\n",
       "      <td>33262</td>\n",
       "      <td>95037</td>\n",
       "      <td>1</td>\n",
       "    </tr>\n",
       "    <tr>\n",
       "      <th>13</th>\n",
       "      <td>33974</td>\n",
       "      <td>33621</td>\n",
       "      <td>1</td>\n",
       "    </tr>\n",
       "    <tr>\n",
       "      <th>14</th>\n",
       "      <td>33974</td>\n",
       "      <td>99817</td>\n",
       "      <td>1</td>\n",
       "    </tr>\n",
       "    <tr>\n",
       "      <th>16</th>\n",
       "      <td>33977</td>\n",
       "      <td>34678</td>\n",
       "      <td>1</td>\n",
       "    </tr>\n",
       "    <tr>\n",
       "      <th>19</th>\n",
       "      <td>33979</td>\n",
       "      <td>33979</td>\n",
       "      <td>12</td>\n",
       "    </tr>\n",
       "  </tbody>\n",
       "</table>\n",
       "</div>"
      ],
      "text/plain": [
       "    home_zid  work_zid  customers_cnt\n",
       "2      33262     95037              1\n",
       "13     33974     33621              1\n",
       "14     33974     99817              1\n",
       "16     33977     34678              1\n",
       "19     33979     33979             12"
      ]
     },
     "execution_count": 23,
     "metadata": {},
     "output_type": "execute_result"
    }
   ],
   "source": [
    "# выборка данных\n",
    "cmatrix_home_work_yes = cmatrix_home_work[cmatrix_home_work['work_zid'] != -1]\n",
    "cmatrix_home_work_yes.head()"
   ]
  },
  {
   "cell_type": "code",
   "execution_count": 24,
   "id": "54177620",
   "metadata": {},
   "outputs": [
    {
     "data": {
      "image/png": "[encoded data removed]",
      "text/plain": [
       "<Figure size 500x300 with 1 Axes>"
      ]
     },
     "metadata": {},
     "output_type": "display_data"
    }
   ],
   "source": [
    "# визуализация распределения признака корреспонденции дом-работа\n",
    "plt.figure(figsize=(5, 3))\n",
    "plt.hist(cmatrix_home_work_yes['customers_cnt'], color='r')\n",
    "plt.title(f'Распределение признака\\nкорреспонденции дом-работа', \\\n",
    "          c='r', fontweight='bold', fontsize=12)\n",
    "plt.xlabel('количество человек')\n",
    "plt.show()"
   ]
  },
  {
   "cell_type": "code",
   "execution_count": 25,
   "id": "a8d09cb4",
   "metadata": {},
   "outputs": [
    {
     "data": {
      "text/plain": [
       "(1432652, 3)"
      ]
     },
     "execution_count": 25,
     "metadata": {},
     "output_type": "execute_result"
    }
   ],
   "source": [
    "# размерность данных до оъединения\n",
    "cmatrix_home_work_yes.shape"
   ]
  },
  {
   "cell_type": "code",
   "execution_count": 26,
   "id": "5c2e6f60",
   "metadata": {},
   "outputs": [
    {
     "data": {
      "text/html": [
       "<div>\n",
       "<style scoped>\n",
       "    .dataframe tbody tr th:only-of-type {\n",
       "        vertical-align: middle;\n",
       "    }\n",
       "\n",
       "    .dataframe tbody tr th {\n",
       "        vertical-align: top;\n",
       "    }\n",
       "\n",
       "    .dataframe thead th {\n",
       "        text-align: right;\n",
       "    }\n",
       "</style>\n",
       "<table border=\"1\" class=\"dataframe\">\n",
       "  <thead>\n",
       "    <tr style=\"text-align: right;\">\n",
       "      <th></th>\n",
       "      <th>home_zid</th>\n",
       "      <th>work_zid</th>\n",
       "      <th>customers_cnt</th>\n",
       "      <th>geometry_home</th>\n",
       "      <th>cell_zid_home</th>\n",
       "      <th>adm_name_home</th>\n",
       "      <th>okrug_name_home</th>\n",
       "      <th>sub_ter_home</th>\n",
       "      <th>area_home</th>\n",
       "      <th>conts_zid_home</th>\n",
       "      <th>centroid_home</th>\n",
       "      <th>geometry_work</th>\n",
       "      <th>cell_zid_work</th>\n",
       "      <th>adm_name_work</th>\n",
       "      <th>okrug_name_work</th>\n",
       "      <th>sub_ter_work</th>\n",
       "      <th>area_work</th>\n",
       "      <th>conts_zid_work</th>\n",
       "      <th>centroid_work</th>\n",
       "    </tr>\n",
       "  </thead>\n",
       "  <tbody>\n",
       "    <tr>\n",
       "      <th>0</th>\n",
       "      <td>33262</td>\n",
       "      <td>95037</td>\n",
       "      <td>1</td>\n",
       "      <td>MULTIPOLYGON (((37.03343 55.14751, 37.03341 55...</td>\n",
       "      <td>33262</td>\n",
       "      <td>Роговское</td>\n",
       "      <td>Троицкий административный округ</td>\n",
       "      <td>Новая Москва</td>\n",
       "      <td>0.25</td>\n",
       "      <td>1</td>\n",
       "      <td>POINT (37.03802 55.14745)</td>\n",
       "      <td>MULTIPOLYGON (((37.51995 55.63976, 37.51995 55...</td>\n",
       "      <td>95037</td>\n",
       "      <td>Коньково</td>\n",
       "      <td>Юго-Западный административный округ</td>\n",
       "      <td>Старая Москва</td>\n",
       "      <td>0.25</td>\n",
       "      <td>1</td>\n",
       "      <td>POINT (37.52392 55.64200)</td>\n",
       "    </tr>\n",
       "    <tr>\n",
       "      <th>1</th>\n",
       "      <td>35730</td>\n",
       "      <td>95037</td>\n",
       "      <td>1</td>\n",
       "      <td>MULTIPOLYGON (((37.03309 55.17622, 37.03304 55...</td>\n",
       "      <td>35730</td>\n",
       "      <td>Роговское</td>\n",
       "      <td>Троицкий административный округ</td>\n",
       "      <td>Новая Москва</td>\n",
       "      <td>0.25</td>\n",
       "      <td>1</td>\n",
       "      <td>POINT (37.03699 55.17848)</td>\n",
       "      <td>MULTIPOLYGON (((37.51995 55.63976, 37.51995 55...</td>\n",
       "      <td>95037</td>\n",
       "      <td>Коньково</td>\n",
       "      <td>Юго-Западный административный округ</td>\n",
       "      <td>Старая Москва</td>\n",
       "      <td>0.25</td>\n",
       "      <td>1</td>\n",
       "      <td>POINT (37.52392 55.64200)</td>\n",
       "    </tr>\n",
       "    <tr>\n",
       "      <th>2</th>\n",
       "      <td>43408</td>\n",
       "      <td>95037</td>\n",
       "      <td>1</td>\n",
       "      <td>MULTIPOLYGON (((37.09506 55.25730, 37.09502 55...</td>\n",
       "      <td>43408</td>\n",
       "      <td>Роговское</td>\n",
       "      <td>Троицкий административный округ</td>\n",
       "      <td>Новая Москва</td>\n",
       "      <td>0.25</td>\n",
       "      <td>1</td>\n",
       "      <td>POINT (37.09897 55.25955)</td>\n",
       "      <td>MULTIPOLYGON (((37.51995 55.63976, 37.51995 55...</td>\n",
       "      <td>95037</td>\n",
       "      <td>Коньково</td>\n",
       "      <td>Юго-Западный административный округ</td>\n",
       "      <td>Старая Москва</td>\n",
       "      <td>0.25</td>\n",
       "      <td>1</td>\n",
       "      <td>POINT (37.52392 55.64200)</td>\n",
       "    </tr>\n",
       "    <tr>\n",
       "      <th>3</th>\n",
       "      <td>43936</td>\n",
       "      <td>95037</td>\n",
       "      <td>1</td>\n",
       "      <td>MULTIPOLYGON (((37.15794 55.26198, 37.15790 55...</td>\n",
       "      <td>43936</td>\n",
       "      <td>Вороновское</td>\n",
       "      <td>Троицкий административный округ</td>\n",
       "      <td>Новая Москва</td>\n",
       "      <td>0.25</td>\n",
       "      <td>1</td>\n",
       "      <td>POINT (37.16185 55.26424)</td>\n",
       "      <td>MULTIPOLYGON (((37.51995 55.63976, 37.51995 55...</td>\n",
       "      <td>95037</td>\n",
       "      <td>Коньково</td>\n",
       "      <td>Юго-Западный административный округ</td>\n",
       "      <td>Старая Москва</td>\n",
       "      <td>0.25</td>\n",
       "      <td>1</td>\n",
       "      <td>POINT (37.52392 55.64200)</td>\n",
       "    </tr>\n",
       "    <tr>\n",
       "      <th>4</th>\n",
       "      <td>43938</td>\n",
       "      <td>95037</td>\n",
       "      <td>1</td>\n",
       "      <td>MULTIPOLYGON (((37.17367 55.26202, 37.17363 55...</td>\n",
       "      <td>43938</td>\n",
       "      <td>Вороновское</td>\n",
       "      <td>Троицкий административный округ</td>\n",
       "      <td>Новая Москва</td>\n",
       "      <td>0.25</td>\n",
       "      <td>1</td>\n",
       "      <td>POINT (37.17758 55.26428)</td>\n",
       "      <td>MULTIPOLYGON (((37.51995 55.63976, 37.51995 55...</td>\n",
       "      <td>95037</td>\n",
       "      <td>Коньково</td>\n",
       "      <td>Юго-Западный административный округ</td>\n",
       "      <td>Старая Москва</td>\n",
       "      <td>0.25</td>\n",
       "      <td>1</td>\n",
       "      <td>POINT (37.52392 55.64200)</td>\n",
       "    </tr>\n",
       "  </tbody>\n",
       "</table>\n",
       "</div>"
      ],
      "text/plain": [
       "   home_zid  work_zid  customers_cnt  \\\n",
       "0     33262     95037              1   \n",
       "1     35730     95037              1   \n",
       "2     43408     95037              1   \n",
       "3     43936     95037              1   \n",
       "4     43938     95037              1   \n",
       "\n",
       "                                       geometry_home  cell_zid_home  \\\n",
       "0  MULTIPOLYGON (((37.03343 55.14751, 37.03341 55...          33262   \n",
       "1  MULTIPOLYGON (((37.03309 55.17622, 37.03304 55...          35730   \n",
       "2  MULTIPOLYGON (((37.09506 55.25730, 37.09502 55...          43408   \n",
       "3  MULTIPOLYGON (((37.15794 55.26198, 37.15790 55...          43936   \n",
       "4  MULTIPOLYGON (((37.17367 55.26202, 37.17363 55...          43938   \n",
       "\n",
       "  adm_name_home                  okrug_name_home  sub_ter_home  area_home  \\\n",
       "0     Роговское  Троицкий административный округ  Новая Москва       0.25   \n",
       "1     Роговское  Троицкий административный округ  Новая Москва       0.25   \n",
       "2     Роговское  Троицкий административный округ  Новая Москва       0.25   \n",
       "3   Вороновское  Троицкий административный округ  Новая Москва       0.25   \n",
       "4   Вороновское  Троицкий административный округ  Новая Москва       0.25   \n",
       "\n",
       "   conts_zid_home              centroid_home  \\\n",
       "0               1  POINT (37.03802 55.14745)   \n",
       "1               1  POINT (37.03699 55.17848)   \n",
       "2               1  POINT (37.09897 55.25955)   \n",
       "3               1  POINT (37.16185 55.26424)   \n",
       "4               1  POINT (37.17758 55.26428)   \n",
       "\n",
       "                                       geometry_work  cell_zid_work  \\\n",
       "0  MULTIPOLYGON (((37.51995 55.63976, 37.51995 55...          95037   \n",
       "1  MULTIPOLYGON (((37.51995 55.63976, 37.51995 55...          95037   \n",
       "2  MULTIPOLYGON (((37.51995 55.63976, 37.51995 55...          95037   \n",
       "3  MULTIPOLYGON (((37.51995 55.63976, 37.51995 55...          95037   \n",
       "4  MULTIPOLYGON (((37.51995 55.63976, 37.51995 55...          95037   \n",
       "\n",
       "  adm_name_work                      okrug_name_work   sub_ter_work  \\\n",
       "0      Коньково  Юго-Западный административный округ  Старая Москва   \n",
       "1      Коньково  Юго-Западный административный округ  Старая Москва   \n",
       "2      Коньково  Юго-Западный административный округ  Старая Москва   \n",
       "3      Коньково  Юго-Западный административный округ  Старая Москва   \n",
       "4      Коньково  Юго-Западный административный округ  Старая Москва   \n",
       "\n",
       "   area_work  conts_zid_work              centroid_work  \n",
       "0       0.25               1  POINT (37.52392 55.64200)  \n",
       "1       0.25               1  POINT (37.52392 55.64200)  \n",
       "2       0.25               1  POINT (37.52392 55.64200)  \n",
       "3       0.25               1  POINT (37.52392 55.64200)  \n",
       "4       0.25               1  POINT (37.52392 55.64200)  "
      ]
     },
     "execution_count": 26,
     "metadata": {},
     "output_type": "execute_result"
    }
   ],
   "source": [
    "# объединение данных с данными административных районов\n",
    "cmatrix_home_work_yes = cmatrix_home_work_yes.merge(adm, left_on='home_zid', right_on='cell_zid') \\\n",
    "                       .merge(adm, left_on='work_zid', right_on='cell_zid', suffixes=('_home', '_work'))\n",
    "cmatrix_home_work_yes.head()"
   ]
  },
  {
   "cell_type": "code",
   "execution_count": 27,
   "id": "279db64d",
   "metadata": {},
   "outputs": [
    {
     "data": {
      "text/plain": [
       "(3272961, 19)"
      ]
     },
     "execution_count": 27,
     "metadata": {},
     "output_type": "execute_result"
    }
   ],
   "source": [
    "# размерность после объединения\n",
    "cmatrix_home_work_yes.shape"
   ]
  },
  {
   "cell_type": "markdown",
   "id": "41de38b2",
   "metadata": {},
   "source": [
    "Размерность данных изменилась. Ранее при анализе геоданных Московской агломерации было установлено, что в отдельные сектора попадают границы нескольких административных районов. При этом площадь административных районов не всегда пропорциональна друг другу. В результате чего при объединении данных происходит искажение изменения численности населения."
   ]
  },
  {
   "cell_type": "code",
   "execution_count": 28,
   "id": "0040adfd",
   "metadata": {},
   "outputs": [
    {
     "data": {
      "text/plain": [
       "1977265"
      ]
     },
     "execution_count": 28,
     "metadata": {},
     "output_type": "execute_result"
    }
   ],
   "source": [
    "# проверка соответствия наложения секторов\n",
    "(cmatrix_home_work_yes['conts_zid_home'] != cmatrix_home_work_yes['conts_zid_work']).sum()"
   ]
  },
  {
   "cell_type": "markdown",
   "id": "0f189799",
   "metadata": {},
   "source": [
    "Наложение секторов не соответствует друг другу. При анализе данных за базовый сектор возьмем сектор А (из дома)."
   ]
  },
  {
   "cell_type": "code",
   "execution_count": 29,
   "id": "8fad371c",
   "metadata": {},
   "outputs": [],
   "source": [
    "# пересчет показателей изменения численности населения с учетом пересечения секторов\n",
    "cmatrix_home_work_yes['customers_cnt_home'] = cmatrix_home_work_yes['customers_cnt'] / cmatrix_home_work_yes['conts_zid_home']"
   ]
  },
  {
   "cell_type": "code",
   "execution_count": 30,
   "id": "f981bad8",
   "metadata": {},
   "outputs": [
    {
     "data": {
      "image/png": "[encoded data removed]",
      "text/plain": [
       "<Figure size 500x300 with 1 Axes>"
      ]
     },
     "metadata": {},
     "output_type": "display_data"
    }
   ],
   "source": [
    "# визуализация распределения признака корреспонденции дом-работа\n",
    "plt.figure(figsize=(5, 3))\n",
    "plt.hist(cmatrix_home_work_yes['customers_cnt_home'], color='r')\n",
    "plt.title(f'Распределение признака\\nкорреспонденции дом-работа', \\\n",
    "          c='r', fontweight='bold', fontsize=12)\n",
    "plt.xlabel('количество человек')\n",
    "plt.show()"
   ]
  },
  {
   "cell_type": "code",
   "execution_count": 31,
   "id": "1b35ecce",
   "metadata": {},
   "outputs": [
    {
     "data": {
      "text/plain": [
       "0.6933152450655977"
      ]
     },
     "execution_count": 31,
     "metadata": {},
     "output_type": "execute_result"
    }
   ],
   "source": [
    "# рассчет расстояния перемещения\n",
    "cmatrix_home_work_yes['centroid_home'].iloc[0].distance(cmatrix_home_work_yes['centroid_work'].iloc[0])"
   ]
  },
  {
   "cell_type": "code",
   "execution_count": 32,
   "id": "8e971418",
   "metadata": {},
   "outputs": [],
   "source": [
    "# рассчет расстояния перемещения\n",
    "cmatrix_home_work_yes['distance'] = [point_home.distance(point_work) \\\n",
    "                           for point_home, point_work in zip(cmatrix_home_work_yes['centroid_home'].values, \\\n",
    "                                                             cmatrix_home_work_yes['centroid_work'].values)]"
   ]
  },
  {
   "cell_type": "code",
   "execution_count": 33,
   "id": "e8057dae",
   "metadata": {},
   "outputs": [
    {
     "data": {
      "text/html": [
       "<div>\n",
       "<style scoped>\n",
       "    .dataframe tbody tr th:only-of-type {\n",
       "        vertical-align: middle;\n",
       "    }\n",
       "\n",
       "    .dataframe tbody tr th {\n",
       "        vertical-align: top;\n",
       "    }\n",
       "\n",
       "    .dataframe thead th {\n",
       "        text-align: right;\n",
       "    }\n",
       "</style>\n",
       "<table border=\"1\" class=\"dataframe\">\n",
       "  <thead>\n",
       "    <tr style=\"text-align: right;\">\n",
       "      <th></th>\n",
       "      <th>home_zid</th>\n",
       "      <th>work_zid</th>\n",
       "      <th>customers_cnt</th>\n",
       "      <th>geometry_home</th>\n",
       "      <th>cell_zid_home</th>\n",
       "      <th>adm_name_home</th>\n",
       "      <th>okrug_name_home</th>\n",
       "      <th>sub_ter_home</th>\n",
       "      <th>area_home</th>\n",
       "      <th>conts_zid_home</th>\n",
       "      <th>...</th>\n",
       "      <th>geometry_work</th>\n",
       "      <th>cell_zid_work</th>\n",
       "      <th>adm_name_work</th>\n",
       "      <th>okrug_name_work</th>\n",
       "      <th>sub_ter_work</th>\n",
       "      <th>area_work</th>\n",
       "      <th>conts_zid_work</th>\n",
       "      <th>centroid_work</th>\n",
       "      <th>customers_cnt_home</th>\n",
       "      <th>distance</th>\n",
       "    </tr>\n",
       "  </thead>\n",
       "  <tbody>\n",
       "    <tr>\n",
       "      <th>0</th>\n",
       "      <td>33262</td>\n",
       "      <td>95037</td>\n",
       "      <td>1</td>\n",
       "      <td>MULTIPOLYGON (((37.03343 55.14751, 37.03341 55...</td>\n",
       "      <td>33262</td>\n",
       "      <td>Роговское</td>\n",
       "      <td>Троицкий административный округ</td>\n",
       "      <td>Новая Москва</td>\n",
       "      <td>0.25</td>\n",
       "      <td>1</td>\n",
       "      <td>...</td>\n",
       "      <td>MULTIPOLYGON (((37.51995 55.63976, 37.51995 55...</td>\n",
       "      <td>95037</td>\n",
       "      <td>Коньково</td>\n",
       "      <td>Юго-Западный административный округ</td>\n",
       "      <td>Старая Москва</td>\n",
       "      <td>0.25</td>\n",
       "      <td>1</td>\n",
       "      <td>POINT (37.52392 55.64200)</td>\n",
       "      <td>1.0</td>\n",
       "      <td>0.693315</td>\n",
       "    </tr>\n",
       "    <tr>\n",
       "      <th>1</th>\n",
       "      <td>35730</td>\n",
       "      <td>95037</td>\n",
       "      <td>1</td>\n",
       "      <td>MULTIPOLYGON (((37.03309 55.17622, 37.03304 55...</td>\n",
       "      <td>35730</td>\n",
       "      <td>Роговское</td>\n",
       "      <td>Троицкий административный округ</td>\n",
       "      <td>Новая Москва</td>\n",
       "      <td>0.25</td>\n",
       "      <td>1</td>\n",
       "      <td>...</td>\n",
       "      <td>MULTIPOLYGON (((37.51995 55.63976, 37.51995 55...</td>\n",
       "      <td>95037</td>\n",
       "      <td>Коньково</td>\n",
       "      <td>Юго-Западный административный округ</td>\n",
       "      <td>Старая Москва</td>\n",
       "      <td>0.25</td>\n",
       "      <td>1</td>\n",
       "      <td>POINT (37.52392 55.64200)</td>\n",
       "      <td>1.0</td>\n",
       "      <td>0.672275</td>\n",
       "    </tr>\n",
       "    <tr>\n",
       "      <th>2</th>\n",
       "      <td>43408</td>\n",
       "      <td>95037</td>\n",
       "      <td>1</td>\n",
       "      <td>MULTIPOLYGON (((37.09506 55.25730, 37.09502 55...</td>\n",
       "      <td>43408</td>\n",
       "      <td>Роговское</td>\n",
       "      <td>Троицкий административный округ</td>\n",
       "      <td>Новая Москва</td>\n",
       "      <td>0.25</td>\n",
       "      <td>1</td>\n",
       "      <td>...</td>\n",
       "      <td>MULTIPOLYGON (((37.51995 55.63976, 37.51995 55...</td>\n",
       "      <td>95037</td>\n",
       "      <td>Коньково</td>\n",
       "      <td>Юго-Западный административный округ</td>\n",
       "      <td>Старая Москва</td>\n",
       "      <td>0.25</td>\n",
       "      <td>1</td>\n",
       "      <td>POINT (37.52392 55.64200)</td>\n",
       "      <td>1.0</td>\n",
       "      <td>0.571708</td>\n",
       "    </tr>\n",
       "    <tr>\n",
       "      <th>3</th>\n",
       "      <td>43936</td>\n",
       "      <td>95037</td>\n",
       "      <td>1</td>\n",
       "      <td>MULTIPOLYGON (((37.15794 55.26198, 37.15790 55...</td>\n",
       "      <td>43936</td>\n",
       "      <td>Вороновское</td>\n",
       "      <td>Троицкий административный округ</td>\n",
       "      <td>Новая Москва</td>\n",
       "      <td>0.25</td>\n",
       "      <td>1</td>\n",
       "      <td>...</td>\n",
       "      <td>MULTIPOLYGON (((37.51995 55.63976, 37.51995 55...</td>\n",
       "      <td>95037</td>\n",
       "      <td>Коньково</td>\n",
       "      <td>Юго-Западный административный округ</td>\n",
       "      <td>Старая Москва</td>\n",
       "      <td>0.25</td>\n",
       "      <td>1</td>\n",
       "      <td>POINT (37.52392 55.64200)</td>\n",
       "      <td>1.0</td>\n",
       "      <td>0.523260</td>\n",
       "    </tr>\n",
       "    <tr>\n",
       "      <th>4</th>\n",
       "      <td>43938</td>\n",
       "      <td>95037</td>\n",
       "      <td>1</td>\n",
       "      <td>MULTIPOLYGON (((37.17367 55.26202, 37.17363 55...</td>\n",
       "      <td>43938</td>\n",
       "      <td>Вороновское</td>\n",
       "      <td>Троицкий административный округ</td>\n",
       "      <td>Новая Москва</td>\n",
       "      <td>0.25</td>\n",
       "      <td>1</td>\n",
       "      <td>...</td>\n",
       "      <td>MULTIPOLYGON (((37.51995 55.63976, 37.51995 55...</td>\n",
       "      <td>95037</td>\n",
       "      <td>Коньково</td>\n",
       "      <td>Юго-Западный административный округ</td>\n",
       "      <td>Старая Москва</td>\n",
       "      <td>0.25</td>\n",
       "      <td>1</td>\n",
       "      <td>POINT (37.52392 55.64200)</td>\n",
       "      <td>1.0</td>\n",
       "      <td>0.512469</td>\n",
       "    </tr>\n",
       "  </tbody>\n",
       "</table>\n",
       "<p>5 rows × 21 columns</p>\n",
       "</div>"
      ],
      "text/plain": [
       "   home_zid  work_zid  customers_cnt  \\\n",
       "0     33262     95037              1   \n",
       "1     35730     95037              1   \n",
       "2     43408     95037              1   \n",
       "3     43936     95037              1   \n",
       "4     43938     95037              1   \n",
       "\n",
       "                                       geometry_home  cell_zid_home  \\\n",
       "0  MULTIPOLYGON (((37.03343 55.14751, 37.03341 55...          33262   \n",
       "1  MULTIPOLYGON (((37.03309 55.17622, 37.03304 55...          35730   \n",
       "2  MULTIPOLYGON (((37.09506 55.25730, 37.09502 55...          43408   \n",
       "3  MULTIPOLYGON (((37.15794 55.26198, 37.15790 55...          43936   \n",
       "4  MULTIPOLYGON (((37.17367 55.26202, 37.17363 55...          43938   \n",
       "\n",
       "  adm_name_home                  okrug_name_home  sub_ter_home  area_home  \\\n",
       "0     Роговское  Троицкий административный округ  Новая Москва       0.25   \n",
       "1     Роговское  Троицкий административный округ  Новая Москва       0.25   \n",
       "2     Роговское  Троицкий административный округ  Новая Москва       0.25   \n",
       "3   Вороновское  Троицкий административный округ  Новая Москва       0.25   \n",
       "4   Вороновское  Троицкий административный округ  Новая Москва       0.25   \n",
       "\n",
       "   conts_zid_home  ...                                      geometry_work  \\\n",
       "0               1  ...  MULTIPOLYGON (((37.51995 55.63976, 37.51995 55...   \n",
       "1               1  ...  MULTIPOLYGON (((37.51995 55.63976, 37.51995 55...   \n",
       "2               1  ...  MULTIPOLYGON (((37.51995 55.63976, 37.51995 55...   \n",
       "3               1  ...  MULTIPOLYGON (((37.51995 55.63976, 37.51995 55...   \n",
       "4               1  ...  MULTIPOLYGON (((37.51995 55.63976, 37.51995 55...   \n",
       "\n",
       "  cell_zid_work  adm_name_work                      okrug_name_work  \\\n",
       "0         95037       Коньково  Юго-Западный административный округ   \n",
       "1         95037       Коньково  Юго-Западный административный округ   \n",
       "2         95037       Коньково  Юго-Западный административный округ   \n",
       "3         95037       Коньково  Юго-Западный административный округ   \n",
       "4         95037       Коньково  Юго-Западный административный округ   \n",
       "\n",
       "    sub_ter_work area_work  conts_zid_work              centroid_work  \\\n",
       "0  Старая Москва      0.25               1  POINT (37.52392 55.64200)   \n",
       "1  Старая Москва      0.25               1  POINT (37.52392 55.64200)   \n",
       "2  Старая Москва      0.25               1  POINT (37.52392 55.64200)   \n",
       "3  Старая Москва      0.25               1  POINT (37.52392 55.64200)   \n",
       "4  Старая Москва      0.25               1  POINT (37.52392 55.64200)   \n",
       "\n",
       "  customers_cnt_home  distance  \n",
       "0                1.0  0.693315  \n",
       "1                1.0  0.672275  \n",
       "2                1.0  0.571708  \n",
       "3                1.0  0.523260  \n",
       "4                1.0  0.512469  \n",
       "\n",
       "[5 rows x 21 columns]"
      ]
     },
     "execution_count": 33,
     "metadata": {},
     "output_type": "execute_result"
    }
   ],
   "source": [
    "# вывод данных\n",
    "cmatrix_home_work_yes.head()"
   ]
  },
  {
   "cell_type": "code",
   "execution_count": 34,
   "id": "08657141",
   "metadata": {},
   "outputs": [
    {
     "data": {
      "text/plain": [
       "Index(['home_zid', 'work_zid', 'customers_cnt', 'geometry_home',\n",
       "       'cell_zid_home', 'adm_name_home', 'okrug_name_home', 'sub_ter_home',\n",
       "       'area_home', 'conts_zid_home', 'centroid_home', 'geometry_work',\n",
       "       'cell_zid_work', 'adm_name_work', 'okrug_name_work', 'sub_ter_work',\n",
       "       'area_work', 'conts_zid_work', 'centroid_work', 'customers_cnt_home',\n",
       "       'distance'],\n",
       "      dtype='object')"
      ]
     },
     "execution_count": 34,
     "metadata": {},
     "output_type": "execute_result"
    }
   ],
   "source": [
    "# признаки данных\n",
    "cmatrix_home_work_yes.columns"
   ]
  },
  {
   "cell_type": "code",
   "execution_count": 35,
   "id": "cc38467c",
   "metadata": {},
   "outputs": [],
   "source": [
    "# удаление лишних признаков\n",
    "cmatrix_home_work_yes = cmatrix_home_work_yes.drop(columns=['home_zid', 'work_zid', 'sub_ter_home', \\\n",
    "                                                            'sub_ter_work', 'conts_zid_home', 'conts_zid_work'])"
   ]
  },
  {
   "cell_type": "code",
   "execution_count": 36,
   "id": "e6629260",
   "metadata": {},
   "outputs": [
    {
     "data": {
      "text/html": [
       "<div>\n",
       "<style scoped>\n",
       "    .dataframe tbody tr th:only-of-type {\n",
       "        vertical-align: middle;\n",
       "    }\n",
       "\n",
       "    .dataframe tbody tr th {\n",
       "        vertical-align: top;\n",
       "    }\n",
       "\n",
       "    .dataframe thead th {\n",
       "        text-align: right;\n",
       "    }\n",
       "</style>\n",
       "<table border=\"1\" class=\"dataframe\">\n",
       "  <thead>\n",
       "    <tr style=\"text-align: right;\">\n",
       "      <th></th>\n",
       "      <th>customers_cnt</th>\n",
       "      <th>geometry_home</th>\n",
       "      <th>cell_zid_home</th>\n",
       "      <th>adm_name_home</th>\n",
       "      <th>okrug_name_home</th>\n",
       "      <th>area_home</th>\n",
       "      <th>centroid_home</th>\n",
       "      <th>geometry_work</th>\n",
       "      <th>cell_zid_work</th>\n",
       "      <th>adm_name_work</th>\n",
       "      <th>okrug_name_work</th>\n",
       "      <th>area_work</th>\n",
       "      <th>centroid_work</th>\n",
       "      <th>customers_cnt_home</th>\n",
       "      <th>distance</th>\n",
       "    </tr>\n",
       "  </thead>\n",
       "  <tbody>\n",
       "    <tr>\n",
       "      <th>0</th>\n",
       "      <td>1</td>\n",
       "      <td>MULTIPOLYGON (((37.03343 55.14751, 37.03341 55...</td>\n",
       "      <td>33262</td>\n",
       "      <td>Роговское</td>\n",
       "      <td>Троицкий административный округ</td>\n",
       "      <td>0.25</td>\n",
       "      <td>POINT (37.03802 55.14745)</td>\n",
       "      <td>MULTIPOLYGON (((37.51995 55.63976, 37.51995 55...</td>\n",
       "      <td>95037</td>\n",
       "      <td>Коньково</td>\n",
       "      <td>Юго-Западный административный округ</td>\n",
       "      <td>0.25</td>\n",
       "      <td>POINT (37.52392 55.64200)</td>\n",
       "      <td>1.0</td>\n",
       "      <td>0.693315</td>\n",
       "    </tr>\n",
       "    <tr>\n",
       "      <th>1</th>\n",
       "      <td>1</td>\n",
       "      <td>MULTIPOLYGON (((37.03309 55.17622, 37.03304 55...</td>\n",
       "      <td>35730</td>\n",
       "      <td>Роговское</td>\n",
       "      <td>Троицкий административный округ</td>\n",
       "      <td>0.25</td>\n",
       "      <td>POINT (37.03699 55.17848)</td>\n",
       "      <td>MULTIPOLYGON (((37.51995 55.63976, 37.51995 55...</td>\n",
       "      <td>95037</td>\n",
       "      <td>Коньково</td>\n",
       "      <td>Юго-Западный административный округ</td>\n",
       "      <td>0.25</td>\n",
       "      <td>POINT (37.52392 55.64200)</td>\n",
       "      <td>1.0</td>\n",
       "      <td>0.672275</td>\n",
       "    </tr>\n",
       "    <tr>\n",
       "      <th>2</th>\n",
       "      <td>1</td>\n",
       "      <td>MULTIPOLYGON (((37.09506 55.25730, 37.09502 55...</td>\n",
       "      <td>43408</td>\n",
       "      <td>Роговское</td>\n",
       "      <td>Троицкий административный округ</td>\n",
       "      <td>0.25</td>\n",
       "      <td>POINT (37.09897 55.25955)</td>\n",
       "      <td>MULTIPOLYGON (((37.51995 55.63976, 37.51995 55...</td>\n",
       "      <td>95037</td>\n",
       "      <td>Коньково</td>\n",
       "      <td>Юго-Западный административный округ</td>\n",
       "      <td>0.25</td>\n",
       "      <td>POINT (37.52392 55.64200)</td>\n",
       "      <td>1.0</td>\n",
       "      <td>0.571708</td>\n",
       "    </tr>\n",
       "    <tr>\n",
       "      <th>3</th>\n",
       "      <td>1</td>\n",
       "      <td>MULTIPOLYGON (((37.15794 55.26198, 37.15790 55...</td>\n",
       "      <td>43936</td>\n",
       "      <td>Вороновское</td>\n",
       "      <td>Троицкий административный округ</td>\n",
       "      <td>0.25</td>\n",
       "      <td>POINT (37.16185 55.26424)</td>\n",
       "      <td>MULTIPOLYGON (((37.51995 55.63976, 37.51995 55...</td>\n",
       "      <td>95037</td>\n",
       "      <td>Коньково</td>\n",
       "      <td>Юго-Западный административный округ</td>\n",
       "      <td>0.25</td>\n",
       "      <td>POINT (37.52392 55.64200)</td>\n",
       "      <td>1.0</td>\n",
       "      <td>0.523260</td>\n",
       "    </tr>\n",
       "    <tr>\n",
       "      <th>4</th>\n",
       "      <td>1</td>\n",
       "      <td>MULTIPOLYGON (((37.17367 55.26202, 37.17363 55...</td>\n",
       "      <td>43938</td>\n",
       "      <td>Вороновское</td>\n",
       "      <td>Троицкий административный округ</td>\n",
       "      <td>0.25</td>\n",
       "      <td>POINT (37.17758 55.26428)</td>\n",
       "      <td>MULTIPOLYGON (((37.51995 55.63976, 37.51995 55...</td>\n",
       "      <td>95037</td>\n",
       "      <td>Коньково</td>\n",
       "      <td>Юго-Западный административный округ</td>\n",
       "      <td>0.25</td>\n",
       "      <td>POINT (37.52392 55.64200)</td>\n",
       "      <td>1.0</td>\n",
       "      <td>0.512469</td>\n",
       "    </tr>\n",
       "  </tbody>\n",
       "</table>\n",
       "</div>"
      ],
      "text/plain": [
       "   customers_cnt                                      geometry_home  \\\n",
       "0              1  MULTIPOLYGON (((37.03343 55.14751, 37.03341 55...   \n",
       "1              1  MULTIPOLYGON (((37.03309 55.17622, 37.03304 55...   \n",
       "2              1  MULTIPOLYGON (((37.09506 55.25730, 37.09502 55...   \n",
       "3              1  MULTIPOLYGON (((37.15794 55.26198, 37.15790 55...   \n",
       "4              1  MULTIPOLYGON (((37.17367 55.26202, 37.17363 55...   \n",
       "\n",
       "   cell_zid_home adm_name_home                  okrug_name_home  area_home  \\\n",
       "0          33262     Роговское  Троицкий административный округ       0.25   \n",
       "1          35730     Роговское  Троицкий административный округ       0.25   \n",
       "2          43408     Роговское  Троицкий административный округ       0.25   \n",
       "3          43936   Вороновское  Троицкий административный округ       0.25   \n",
       "4          43938   Вороновское  Троицкий административный округ       0.25   \n",
       "\n",
       "               centroid_home  \\\n",
       "0  POINT (37.03802 55.14745)   \n",
       "1  POINT (37.03699 55.17848)   \n",
       "2  POINT (37.09897 55.25955)   \n",
       "3  POINT (37.16185 55.26424)   \n",
       "4  POINT (37.17758 55.26428)   \n",
       "\n",
       "                                       geometry_work  cell_zid_work  \\\n",
       "0  MULTIPOLYGON (((37.51995 55.63976, 37.51995 55...          95037   \n",
       "1  MULTIPOLYGON (((37.51995 55.63976, 37.51995 55...          95037   \n",
       "2  MULTIPOLYGON (((37.51995 55.63976, 37.51995 55...          95037   \n",
       "3  MULTIPOLYGON (((37.51995 55.63976, 37.51995 55...          95037   \n",
       "4  MULTIPOLYGON (((37.51995 55.63976, 37.51995 55...          95037   \n",
       "\n",
       "  adm_name_work                      okrug_name_work  area_work  \\\n",
       "0      Коньково  Юго-Западный административный округ       0.25   \n",
       "1      Коньково  Юго-Западный административный округ       0.25   \n",
       "2      Коньково  Юго-Западный административный округ       0.25   \n",
       "3      Коньково  Юго-Западный административный округ       0.25   \n",
       "4      Коньково  Юго-Западный административный округ       0.25   \n",
       "\n",
       "               centroid_work  customers_cnt_home  distance  \n",
       "0  POINT (37.52392 55.64200)                 1.0  0.693315  \n",
       "1  POINT (37.52392 55.64200)                 1.0  0.672275  \n",
       "2  POINT (37.52392 55.64200)                 1.0  0.571708  \n",
       "3  POINT (37.52392 55.64200)                 1.0  0.523260  \n",
       "4  POINT (37.52392 55.64200)                 1.0  0.512469  "
      ]
     },
     "execution_count": 36,
     "metadata": {},
     "output_type": "execute_result"
    }
   ],
   "source": [
    "# вывод данных\n",
    "cmatrix_home_work_yes.head()"
   ]
  },
  {
   "cell_type": "markdown",
   "id": "88b3de8d",
   "metadata": {},
   "source": [
    "### Анализ матрицы корреспонденции дом-работа одного из округов"
   ]
  },
  {
   "cell_type": "code",
   "execution_count": 37,
   "id": "1131ef01",
   "metadata": {},
   "outputs": [
    {
     "data": {
      "text/html": [
       "<div>\n",
       "<style scoped>\n",
       "    .dataframe tbody tr th:only-of-type {\n",
       "        vertical-align: middle;\n",
       "    }\n",
       "\n",
       "    .dataframe tbody tr th {\n",
       "        vertical-align: top;\n",
       "    }\n",
       "\n",
       "    .dataframe thead th {\n",
       "        text-align: right;\n",
       "    }\n",
       "</style>\n",
       "<table border=\"1\" class=\"dataframe\">\n",
       "  <thead>\n",
       "    <tr style=\"text-align: right;\">\n",
       "      <th></th>\n",
       "      <th>customers_cnt</th>\n",
       "      <th>geometry_home</th>\n",
       "      <th>cell_zid_home</th>\n",
       "      <th>adm_name_home</th>\n",
       "      <th>okrug_name_home</th>\n",
       "      <th>area_home</th>\n",
       "      <th>centroid_home</th>\n",
       "      <th>geometry_work</th>\n",
       "      <th>cell_zid_work</th>\n",
       "      <th>adm_name_work</th>\n",
       "      <th>okrug_name_work</th>\n",
       "      <th>area_work</th>\n",
       "      <th>centroid_work</th>\n",
       "      <th>customers_cnt_home</th>\n",
       "      <th>distance</th>\n",
       "    </tr>\n",
       "  </thead>\n",
       "  <tbody>\n",
       "    <tr>\n",
       "      <th>0</th>\n",
       "      <td>1</td>\n",
       "      <td>MULTIPOLYGON (((37.03343 55.14751, 37.03341 55...</td>\n",
       "      <td>33262</td>\n",
       "      <td>Роговское</td>\n",
       "      <td>Троицкий административный округ</td>\n",
       "      <td>0.25</td>\n",
       "      <td>POINT (37.03802 55.14745)</td>\n",
       "      <td>MULTIPOLYGON (((37.51995 55.63976, 37.51995 55...</td>\n",
       "      <td>95037</td>\n",
       "      <td>Коньково</td>\n",
       "      <td>Юго-Западный административный округ</td>\n",
       "      <td>0.25</td>\n",
       "      <td>POINT (37.52392 55.64200)</td>\n",
       "      <td>1.0</td>\n",
       "      <td>0.693315</td>\n",
       "    </tr>\n",
       "    <tr>\n",
       "      <th>1</th>\n",
       "      <td>1</td>\n",
       "      <td>MULTIPOLYGON (((37.03309 55.17622, 37.03304 55...</td>\n",
       "      <td>35730</td>\n",
       "      <td>Роговское</td>\n",
       "      <td>Троицкий административный округ</td>\n",
       "      <td>0.25</td>\n",
       "      <td>POINT (37.03699 55.17848)</td>\n",
       "      <td>MULTIPOLYGON (((37.51995 55.63976, 37.51995 55...</td>\n",
       "      <td>95037</td>\n",
       "      <td>Коньково</td>\n",
       "      <td>Юго-Западный административный округ</td>\n",
       "      <td>0.25</td>\n",
       "      <td>POINT (37.52392 55.64200)</td>\n",
       "      <td>1.0</td>\n",
       "      <td>0.672275</td>\n",
       "    </tr>\n",
       "    <tr>\n",
       "      <th>2</th>\n",
       "      <td>1</td>\n",
       "      <td>MULTIPOLYGON (((37.09506 55.25730, 37.09502 55...</td>\n",
       "      <td>43408</td>\n",
       "      <td>Роговское</td>\n",
       "      <td>Троицкий административный округ</td>\n",
       "      <td>0.25</td>\n",
       "      <td>POINT (37.09897 55.25955)</td>\n",
       "      <td>MULTIPOLYGON (((37.51995 55.63976, 37.51995 55...</td>\n",
       "      <td>95037</td>\n",
       "      <td>Коньково</td>\n",
       "      <td>Юго-Западный административный округ</td>\n",
       "      <td>0.25</td>\n",
       "      <td>POINT (37.52392 55.64200)</td>\n",
       "      <td>1.0</td>\n",
       "      <td>0.571708</td>\n",
       "    </tr>\n",
       "    <tr>\n",
       "      <th>3</th>\n",
       "      <td>1</td>\n",
       "      <td>MULTIPOLYGON (((37.15794 55.26198, 37.15790 55...</td>\n",
       "      <td>43936</td>\n",
       "      <td>Вороновское</td>\n",
       "      <td>Троицкий административный округ</td>\n",
       "      <td>0.25</td>\n",
       "      <td>POINT (37.16185 55.26424)</td>\n",
       "      <td>MULTIPOLYGON (((37.51995 55.63976, 37.51995 55...</td>\n",
       "      <td>95037</td>\n",
       "      <td>Коньково</td>\n",
       "      <td>Юго-Западный административный округ</td>\n",
       "      <td>0.25</td>\n",
       "      <td>POINT (37.52392 55.64200)</td>\n",
       "      <td>1.0</td>\n",
       "      <td>0.523260</td>\n",
       "    </tr>\n",
       "    <tr>\n",
       "      <th>4</th>\n",
       "      <td>1</td>\n",
       "      <td>MULTIPOLYGON (((37.17367 55.26202, 37.17363 55...</td>\n",
       "      <td>43938</td>\n",
       "      <td>Вороновское</td>\n",
       "      <td>Троицкий административный округ</td>\n",
       "      <td>0.25</td>\n",
       "      <td>POINT (37.17758 55.26428)</td>\n",
       "      <td>MULTIPOLYGON (((37.51995 55.63976, 37.51995 55...</td>\n",
       "      <td>95037</td>\n",
       "      <td>Коньково</td>\n",
       "      <td>Юго-Западный административный округ</td>\n",
       "      <td>0.25</td>\n",
       "      <td>POINT (37.52392 55.64200)</td>\n",
       "      <td>1.0</td>\n",
       "      <td>0.512469</td>\n",
       "    </tr>\n",
       "  </tbody>\n",
       "</table>\n",
       "</div>"
      ],
      "text/plain": [
       "   customers_cnt                                      geometry_home  \\\n",
       "0              1  MULTIPOLYGON (((37.03343 55.14751, 37.03341 55...   \n",
       "1              1  MULTIPOLYGON (((37.03309 55.17622, 37.03304 55...   \n",
       "2              1  MULTIPOLYGON (((37.09506 55.25730, 37.09502 55...   \n",
       "3              1  MULTIPOLYGON (((37.15794 55.26198, 37.15790 55...   \n",
       "4              1  MULTIPOLYGON (((37.17367 55.26202, 37.17363 55...   \n",
       "\n",
       "   cell_zid_home adm_name_home                  okrug_name_home  area_home  \\\n",
       "0          33262     Роговское  Троицкий административный округ       0.25   \n",
       "1          35730     Роговское  Троицкий административный округ       0.25   \n",
       "2          43408     Роговское  Троицкий административный округ       0.25   \n",
       "3          43936   Вороновское  Троицкий административный округ       0.25   \n",
       "4          43938   Вороновское  Троицкий административный округ       0.25   \n",
       "\n",
       "               centroid_home  \\\n",
       "0  POINT (37.03802 55.14745)   \n",
       "1  POINT (37.03699 55.17848)   \n",
       "2  POINT (37.09897 55.25955)   \n",
       "3  POINT (37.16185 55.26424)   \n",
       "4  POINT (37.17758 55.26428)   \n",
       "\n",
       "                                       geometry_work  cell_zid_work  \\\n",
       "0  MULTIPOLYGON (((37.51995 55.63976, 37.51995 55...          95037   \n",
       "1  MULTIPOLYGON (((37.51995 55.63976, 37.51995 55...          95037   \n",
       "2  MULTIPOLYGON (((37.51995 55.63976, 37.51995 55...          95037   \n",
       "3  MULTIPOLYGON (((37.51995 55.63976, 37.51995 55...          95037   \n",
       "4  MULTIPOLYGON (((37.51995 55.63976, 37.51995 55...          95037   \n",
       "\n",
       "  adm_name_work                      okrug_name_work  area_work  \\\n",
       "0      Коньково  Юго-Западный административный округ       0.25   \n",
       "1      Коньково  Юго-Западный административный округ       0.25   \n",
       "2      Коньково  Юго-Западный административный округ       0.25   \n",
       "3      Коньково  Юго-Западный административный округ       0.25   \n",
       "4      Коньково  Юго-Западный административный округ       0.25   \n",
       "\n",
       "               centroid_work  customers_cnt_home  distance  \n",
       "0  POINT (37.52392 55.64200)                 1.0  0.693315  \n",
       "1  POINT (37.52392 55.64200)                 1.0  0.672275  \n",
       "2  POINT (37.52392 55.64200)                 1.0  0.571708  \n",
       "3  POINT (37.52392 55.64200)                 1.0  0.523260  \n",
       "4  POINT (37.52392 55.64200)                 1.0  0.512469  "
      ]
     },
     "execution_count": 37,
     "metadata": {},
     "output_type": "execute_result"
    }
   ],
   "source": [
    "# выборка данных по выбранному округу\n",
    "troitsky_okrug = cmatrix_home_work_yes[cmatrix_home_work_yes['okrug_name_home'] == 'Троицкий административный округ']\n",
    "troitsky_okrug.head()"
   ]
  },
  {
   "cell_type": "code",
   "execution_count": 38,
   "id": "2041176c",
   "metadata": {},
   "outputs": [
    {
     "data": {
      "image/png": "[encoded data removed]",
      "text/plain": [
       "<Figure size 500x300 with 1 Axes>"
      ]
     },
     "metadata": {},
     "output_type": "display_data"
    }
   ],
   "source": [
    "# визуализация распределения признака корреспонденции дом-работа\n",
    "plt.figure(figsize=(5, 3))\n",
    "plt.hist(troitsky_okrug['customers_cnt_home'], color='r')\n",
    "plt.title(f'Распределение признака\\nкорреспонденции дом-работа\\nв Троицком административном округе', \\\n",
    "          c='r', fontweight='bold', fontsize=12)\n",
    "plt.xlabel('количество человек')\n",
    "plt.show()"
   ]
  },
  {
   "cell_type": "markdown",
   "id": "73bfba2a",
   "metadata": {},
   "source": [
    "### Предлагаемые показатели корреспонденции дом-работа Московской агломерации"
   ]
  },
  {
   "cell_type": "code",
   "execution_count": 39,
   "id": "e61860c2",
   "metadata": {},
   "outputs": [
    {
     "data": {
      "text/plain": [
       "48.67359100970543"
      ]
     },
     "execution_count": 39,
     "metadata": {},
     "output_type": "execute_result"
    }
   ],
   "source": [
    "# расчет обеспеченности округа рабочими местами\n",
    "(troitsky_okrug['okrug_name_home'] == troitsky_okrug['okrug_name_work']).sum() / troitsky_okrug.shape[0] *100"
   ]
  },
  {
   "cell_type": "markdown",
   "id": "f84ff25c",
   "metadata": {},
   "source": [
    "**48,7%**  жителей Тройцкого административного округа работают не покидая свой округ"
   ]
  },
  {
   "cell_type": "code",
   "execution_count": 40,
   "id": "d71b7a58",
   "metadata": {},
   "outputs": [
    {
     "data": {
      "text/plain": [
       "okrug_name_home\n",
       "Троицкий административный округ    80466.333333\n",
       "Name: customers_cnt_home, dtype: float64"
      ]
     },
     "execution_count": 40,
     "metadata": {},
     "output_type": "execute_result"
    }
   ],
   "source": [
    "# количество жителей в округе\n",
    "troitsky_okrug.groupby('okrug_name_home')['customers_cnt_home'].sum()"
   ]
  },
  {
   "cell_type": "code",
   "execution_count": 41,
   "id": "527c033d",
   "metadata": {},
   "outputs": [
    {
     "data": {
      "text/plain": [
       "1    1\n",
       "dtype: int64"
      ]
     },
     "execution_count": 41,
     "metadata": {},
     "output_type": "execute_result"
    }
   ],
   "source": [
    "df = pd.Series([1], index=[1])\n",
    "df"
   ]
  },
  {
   "cell_type": "code",
   "execution_count": 42,
   "id": "ecd61ceb",
   "metadata": {},
   "outputs": [
    {
     "data": {
      "image/png": "[encoded data removed]",
      "text/plain": [
       "<Figure size 300x300 with 1 Axes>"
      ]
     },
     "metadata": {},
     "output_type": "display_data"
    }
   ],
   "source": [
    "# визуализация количества округов, субъектов и административных районов Московской агломерации\n",
    "fig, ax = plt.subplots(figsize=(3, 3))\n",
    "sns.scatterplot(df, x=df.index, y=df.values, size=61.5, \\\n",
    "                sizes=[20000], c='r', legend=False)\n",
    "plt.annotate('48.7%', xy=(0.97, 0.995), fontsize=30, weight='bold', c='w')\n",
    "plt.box(on=None)\n",
    "plt.xticks([])\n",
    "plt.yticks([])\n",
    "plt.xlabel('work_in_okrug')\n",
    "plt.title('Тройцкий АО - это', loc='center', fontweight='bold', color='r', fontsize=20)\n",
    "plt.show()"
   ]
  },
  {
   "cell_type": "code",
   "execution_count": 43,
   "id": "6d4a9dc1",
   "metadata": {},
   "outputs": [
    {
     "data": {
      "text/plain": [
       "30.064702877575343"
      ]
     },
     "execution_count": 43,
     "metadata": {},
     "output_type": "execute_result"
    }
   ],
   "source": [
    "(troitsky_okrug['adm_name_home'] == troitsky_okrug['adm_name_work']).sum() / troitsky_okrug.shape[0] *100"
   ]
  },
  {
   "cell_type": "markdown",
   "id": "1a9ecbb7",
   "metadata": {},
   "source": [
    "**30%** жителей административных районов Тройцкого административного округа работают в своем административном районе"
   ]
  },
  {
   "cell_type": "code",
   "execution_count": 44,
   "id": "95bcaa4c",
   "metadata": {},
   "outputs": [
    {
     "data": {
      "image/png": "[encoded data removed]",
      "text/plain": [
       "<Figure size 300x300 with 1 Axes>"
      ]
     },
     "metadata": {},
     "output_type": "display_data"
    }
   ],
   "source": [
    "# визуализация количества округов, субъектов и административных районов Московской агломерации\n",
    "fig, ax = plt.subplots(figsize=(3, 3))\n",
    "sns.scatterplot(df, x=df.index, y=df.values, size=61.5, \\\n",
    "                sizes=[12500], c='r', legend=False)\n",
    "plt.annotate('30.0%', xy=(0.98, 0.995), fontsize=20, weight='bold', c='w')\n",
    "plt.box(on=None)\n",
    "plt.xticks([])\n",
    "plt.yticks([])\n",
    "plt.xlabel('work_in_adm')\n",
    "plt.title('Тройцкий АО - это', loc='center', fontweight='bold', color='r', fontsize=20)\n",
    "plt.show()"
   ]
  },
  {
   "cell_type": "code",
   "execution_count": 45,
   "id": "00899c50",
   "metadata": {},
   "outputs": [
    {
     "data": {
      "text/html": [
       "<div>\n",
       "<style scoped>\n",
       "    .dataframe tbody tr th:only-of-type {\n",
       "        vertical-align: middle;\n",
       "    }\n",
       "\n",
       "    .dataframe tbody tr th {\n",
       "        vertical-align: top;\n",
       "    }\n",
       "\n",
       "    .dataframe thead th {\n",
       "        text-align: right;\n",
       "    }\n",
       "</style>\n",
       "<table border=\"1\" class=\"dataframe\">\n",
       "  <thead>\n",
       "    <tr style=\"text-align: right;\">\n",
       "      <th></th>\n",
       "      <th>adm_name_work</th>\n",
       "      <th>adm_name_home</th>\n",
       "      <th>customers_cnt_home</th>\n",
       "    </tr>\n",
       "  </thead>\n",
       "  <tbody>\n",
       "    <tr>\n",
       "      <th>0</th>\n",
       "      <td>Академический</td>\n",
       "      <td>Вороновское</td>\n",
       "      <td>0.496590</td>\n",
       "    </tr>\n",
       "    <tr>\n",
       "      <th>1</th>\n",
       "      <td>Академический</td>\n",
       "      <td>Киевский</td>\n",
       "      <td>0.417257</td>\n",
       "    </tr>\n",
       "    <tr>\n",
       "      <th>2</th>\n",
       "      <td>Академический</td>\n",
       "      <td>Кленовское</td>\n",
       "      <td>0.140107</td>\n",
       "    </tr>\n",
       "    <tr>\n",
       "      <th>3</th>\n",
       "      <td>Академический</td>\n",
       "      <td>Краснопахорское</td>\n",
       "      <td>0.575931</td>\n",
       "    </tr>\n",
       "    <tr>\n",
       "      <th>4</th>\n",
       "      <td>Академический</td>\n",
       "      <td>Михайлово-Ярцевское</td>\n",
       "      <td>0.563435</td>\n",
       "    </tr>\n",
       "  </tbody>\n",
       "</table>\n",
       "</div>"
      ],
      "text/plain": [
       "   adm_name_work        adm_name_home  customers_cnt_home\n",
       "0  Академический          Вороновское            0.496590\n",
       "1  Академический             Киевский            0.417257\n",
       "2  Академический           Кленовское            0.140107\n",
       "3  Академический      Краснопахорское            0.575931\n",
       "4  Академический  Михайлово-Ярцевское            0.563435"
      ]
     },
     "execution_count": 45,
     "metadata": {},
     "output_type": "execute_result"
    }
   ],
   "source": [
    "# подсчет отношения жителей работающих в своем административном районе\n",
    "troitsky_okrug_adm_work = (troitsky_okrug.groupby(['adm_name_work', 'adm_name_home'])['customers_cnt_home'].sum() / \\\n",
    "                          troitsky_okrug.groupby('adm_name_home')['customers_cnt_home'].sum() *100).to_frame().reset_index()\n",
    "troitsky_okrug_adm_work.head()"
   ]
  },
  {
   "cell_type": "code",
   "execution_count": 46,
   "id": "d75f133e",
   "metadata": {},
   "outputs": [
    {
     "data": {
      "text/html": [
       "<div>\n",
       "<style scoped>\n",
       "    .dataframe tbody tr th:only-of-type {\n",
       "        vertical-align: middle;\n",
       "    }\n",
       "\n",
       "    .dataframe tbody tr th {\n",
       "        vertical-align: top;\n",
       "    }\n",
       "\n",
       "    .dataframe thead th {\n",
       "        text-align: right;\n",
       "    }\n",
       "</style>\n",
       "<table border=\"1\" class=\"dataframe\">\n",
       "  <thead>\n",
       "    <tr style=\"text-align: right;\">\n",
       "      <th></th>\n",
       "      <th>adm_name_work</th>\n",
       "      <th>adm_name_home</th>\n",
       "      <th>customers_cnt_home</th>\n",
       "    </tr>\n",
       "  </thead>\n",
       "  <tbody>\n",
       "    <tr>\n",
       "      <th>188</th>\n",
       "      <td>Вороновское</td>\n",
       "      <td>Вороновское</td>\n",
       "      <td>59.334109</td>\n",
       "    </tr>\n",
       "    <tr>\n",
       "      <th>189</th>\n",
       "      <td>Вороновское</td>\n",
       "      <td>Киевский</td>\n",
       "      <td>0.543924</td>\n",
       "    </tr>\n",
       "    <tr>\n",
       "      <th>190</th>\n",
       "      <td>Вороновское</td>\n",
       "      <td>Кленовское</td>\n",
       "      <td>6.662861</td>\n",
       "    </tr>\n",
       "    <tr>\n",
       "      <th>191</th>\n",
       "      <td>Вороновское</td>\n",
       "      <td>Краснопахорское</td>\n",
       "      <td>1.849441</td>\n",
       "    </tr>\n",
       "    <tr>\n",
       "      <th>192</th>\n",
       "      <td>Вороновское</td>\n",
       "      <td>Михайлово-Ярцевское</td>\n",
       "      <td>2.868043</td>\n",
       "    </tr>\n",
       "  </tbody>\n",
       "</table>\n",
       "</div>"
      ],
      "text/plain": [
       "    adm_name_work        adm_name_home  customers_cnt_home\n",
       "188   Вороновское          Вороновское           59.334109\n",
       "189   Вороновское             Киевский            0.543924\n",
       "190   Вороновское           Кленовское            6.662861\n",
       "191   Вороновское      Краснопахорское            1.849441\n",
       "192   Вороновское  Михайлово-Ярцевское            2.868043"
      ]
     },
     "execution_count": 46,
     "metadata": {},
     "output_type": "execute_result"
    }
   ],
   "source": [
    "# выборка административных районов Троицкого административного округа\n",
    "troitsky_okrug_adm_work = troitsky_okrug_adm_work[troitsky_okrug_adm_work['adm_name_work'] \\\n",
    "                                                  .isin(troitsky_okrug_adm_work['adm_name_home'].unique())]\n",
    "troitsky_okrug_adm_work.head()"
   ]
  },
  {
   "cell_type": "code",
   "execution_count": 47,
   "id": "653ebf53",
   "metadata": {},
   "outputs": [
    {
     "data": {
      "text/html": [
       "<div>\n",
       "<style scoped>\n",
       "    .dataframe tbody tr th:only-of-type {\n",
       "        vertical-align: middle;\n",
       "    }\n",
       "\n",
       "    .dataframe tbody tr th {\n",
       "        vertical-align: top;\n",
       "    }\n",
       "\n",
       "    .dataframe thead th {\n",
       "        text-align: right;\n",
       "    }\n",
       "</style>\n",
       "<table border=\"1\" class=\"dataframe\">\n",
       "  <thead>\n",
       "    <tr style=\"text-align: right;\">\n",
       "      <th></th>\n",
       "      <th>adm_name_work</th>\n",
       "      <th>adm_name_home</th>\n",
       "      <th>customers_cnt_home</th>\n",
       "    </tr>\n",
       "  </thead>\n",
       "  <tbody>\n",
       "    <tr>\n",
       "      <th>188</th>\n",
       "      <td>Вороновское</td>\n",
       "      <td>Вороновское</td>\n",
       "      <td>59.334109</td>\n",
       "    </tr>\n",
       "    <tr>\n",
       "      <th>383</th>\n",
       "      <td>Киевский</td>\n",
       "      <td>Киевский</td>\n",
       "      <td>44.601744</td>\n",
       "    </tr>\n",
       "    <tr>\n",
       "      <th>391</th>\n",
       "      <td>Кленовское</td>\n",
       "      <td>Кленовское</td>\n",
       "      <td>55.259198</td>\n",
       "    </tr>\n",
       "    <tr>\n",
       "      <th>462</th>\n",
       "      <td>Краснопахорское</td>\n",
       "      <td>Краснопахорское</td>\n",
       "      <td>44.427443</td>\n",
       "    </tr>\n",
       "    <tr>\n",
       "      <th>654</th>\n",
       "      <td>Михайлово-Ярцевское</td>\n",
       "      <td>Михайлово-Ярцевское</td>\n",
       "      <td>40.140859</td>\n",
       "    </tr>\n",
       "    <tr>\n",
       "      <th>793</th>\n",
       "      <td>Новофедоровское</td>\n",
       "      <td>Новофедоровское</td>\n",
       "      <td>46.675839</td>\n",
       "    </tr>\n",
       "    <tr>\n",
       "      <th>872</th>\n",
       "      <td>Первомайское</td>\n",
       "      <td>Первомайское</td>\n",
       "      <td>40.286415</td>\n",
       "    </tr>\n",
       "    <tr>\n",
       "      <th>960</th>\n",
       "      <td>Роговское</td>\n",
       "      <td>Роговское</td>\n",
       "      <td>57.662870</td>\n",
       "    </tr>\n",
       "    <tr>\n",
       "      <th>1172</th>\n",
       "      <td>Троицк</td>\n",
       "      <td>Троицк</td>\n",
       "      <td>43.144748</td>\n",
       "    </tr>\n",
       "    <tr>\n",
       "      <th>1318</th>\n",
       "      <td>Щаповское</td>\n",
       "      <td>Щаповское</td>\n",
       "      <td>57.199776</td>\n",
       "    </tr>\n",
       "  </tbody>\n",
       "</table>\n",
       "</div>"
      ],
      "text/plain": [
       "            adm_name_work        adm_name_home  customers_cnt_home\n",
       "188           Вороновское          Вороновское           59.334109\n",
       "383              Киевский             Киевский           44.601744\n",
       "391            Кленовское           Кленовское           55.259198\n",
       "462       Краснопахорское      Краснопахорское           44.427443\n",
       "654   Михайлово-Ярцевское  Михайлово-Ярцевское           40.140859\n",
       "793       Новофедоровское      Новофедоровское           46.675839\n",
       "872          Первомайское         Первомайское           40.286415\n",
       "960             Роговское            Роговское           57.662870\n",
       "1172               Троицк               Троицк           43.144748\n",
       "1318            Щаповское            Щаповское           57.199776"
      ]
     },
     "execution_count": 47,
     "metadata": {},
     "output_type": "execute_result"
    }
   ],
   "source": [
    "# отношения жителей работающих в своем административном районе\n",
    "troitsky_okrug_adm_work = troitsky_okrug_adm_work[troitsky_okrug_adm_work['adm_name_work'] == \\\n",
    "                                                  troitsky_okrug_adm_work['adm_name_home']]\n",
    "troitsky_okrug_adm_work"
   ]
  },
  {
   "cell_type": "code",
   "execution_count": 48,
   "id": "e8eaa79d",
   "metadata": {},
   "outputs": [
    {
     "data": {
      "text/html": [
       "<div>\n",
       "<style scoped>\n",
       "    .dataframe tbody tr th:only-of-type {\n",
       "        vertical-align: middle;\n",
       "    }\n",
       "\n",
       "    .dataframe tbody tr th {\n",
       "        vertical-align: top;\n",
       "    }\n",
       "\n",
       "    .dataframe thead th {\n",
       "        text-align: right;\n",
       "    }\n",
       "</style>\n",
       "<table border=\"1\" class=\"dataframe\">\n",
       "  <thead>\n",
       "    <tr style=\"text-align: right;\">\n",
       "      <th></th>\n",
       "      <th>adm_name</th>\n",
       "      <th>customers_cnt_home</th>\n",
       "    </tr>\n",
       "  </thead>\n",
       "  <tbody>\n",
       "    <tr>\n",
       "      <th>188</th>\n",
       "      <td>Вороновское</td>\n",
       "      <td>59.334109</td>\n",
       "    </tr>\n",
       "    <tr>\n",
       "      <th>383</th>\n",
       "      <td>Киевский</td>\n",
       "      <td>44.601744</td>\n",
       "    </tr>\n",
       "    <tr>\n",
       "      <th>391</th>\n",
       "      <td>Кленовское</td>\n",
       "      <td>55.259198</td>\n",
       "    </tr>\n",
       "    <tr>\n",
       "      <th>462</th>\n",
       "      <td>Краснопахорское</td>\n",
       "      <td>44.427443</td>\n",
       "    </tr>\n",
       "    <tr>\n",
       "      <th>654</th>\n",
       "      <td>Михайлово-Ярцевское</td>\n",
       "      <td>40.140859</td>\n",
       "    </tr>\n",
       "    <tr>\n",
       "      <th>793</th>\n",
       "      <td>Новофедоровское</td>\n",
       "      <td>46.675839</td>\n",
       "    </tr>\n",
       "    <tr>\n",
       "      <th>872</th>\n",
       "      <td>Первомайское</td>\n",
       "      <td>40.286415</td>\n",
       "    </tr>\n",
       "    <tr>\n",
       "      <th>960</th>\n",
       "      <td>Роговское</td>\n",
       "      <td>57.662870</td>\n",
       "    </tr>\n",
       "    <tr>\n",
       "      <th>1172</th>\n",
       "      <td>Троицк</td>\n",
       "      <td>43.144748</td>\n",
       "    </tr>\n",
       "    <tr>\n",
       "      <th>1318</th>\n",
       "      <td>Щаповское</td>\n",
       "      <td>57.199776</td>\n",
       "    </tr>\n",
       "  </tbody>\n",
       "</table>\n",
       "</div>"
      ],
      "text/plain": [
       "                 adm_name  customers_cnt_home\n",
       "188           Вороновское           59.334109\n",
       "383              Киевский           44.601744\n",
       "391            Кленовское           55.259198\n",
       "462       Краснопахорское           44.427443\n",
       "654   Михайлово-Ярцевское           40.140859\n",
       "793       Новофедоровское           46.675839\n",
       "872          Первомайское           40.286415\n",
       "960             Роговское           57.662870\n",
       "1172               Троицк           43.144748\n",
       "1318            Щаповское           57.199776"
      ]
     },
     "execution_count": 48,
     "metadata": {},
     "output_type": "execute_result"
    }
   ],
   "source": [
    "# отношения жителей работающих в своем административном районе\n",
    "troitsky_okrug_adm_work = troitsky_okrug_adm_work.drop(columns='adm_name_work').rename(columns={'adm_name_home' : 'adm_name'})\n",
    "troitsky_okrug_adm_work"
   ]
  },
  {
   "cell_type": "code",
   "execution_count": 49,
   "id": "819d3243",
   "metadata": {},
   "outputs": [
    {
     "data": {
      "text/html": [
       "<div>\n",
       "<style scoped>\n",
       "    .dataframe tbody tr th:only-of-type {\n",
       "        vertical-align: middle;\n",
       "    }\n",
       "\n",
       "    .dataframe tbody tr th {\n",
       "        vertical-align: top;\n",
       "    }\n",
       "\n",
       "    .dataframe thead th {\n",
       "        text-align: right;\n",
       "    }\n",
       "</style>\n",
       "<table border=\"1\" class=\"dataframe\">\n",
       "  <thead>\n",
       "    <tr style=\"text-align: right;\">\n",
       "      <th></th>\n",
       "      <th>customers_cnt_home</th>\n",
       "    </tr>\n",
       "    <tr>\n",
       "      <th>adm_name</th>\n",
       "      <th></th>\n",
       "    </tr>\n",
       "  </thead>\n",
       "  <tbody>\n",
       "    <tr>\n",
       "      <th>Вороновское</th>\n",
       "      <td>10.0</td>\n",
       "    </tr>\n",
       "    <tr>\n",
       "      <th>Роговское</th>\n",
       "      <td>9.0</td>\n",
       "    </tr>\n",
       "    <tr>\n",
       "      <th>Щаповское</th>\n",
       "      <td>8.0</td>\n",
       "    </tr>\n",
       "    <tr>\n",
       "      <th>Кленовское</th>\n",
       "      <td>7.0</td>\n",
       "    </tr>\n",
       "    <tr>\n",
       "      <th>Новофедоровское</th>\n",
       "      <td>6.0</td>\n",
       "    </tr>\n",
       "    <tr>\n",
       "      <th>Киевский</th>\n",
       "      <td>5.0</td>\n",
       "    </tr>\n",
       "    <tr>\n",
       "      <th>Краснопахорское</th>\n",
       "      <td>4.0</td>\n",
       "    </tr>\n",
       "    <tr>\n",
       "      <th>Троицк</th>\n",
       "      <td>3.0</td>\n",
       "    </tr>\n",
       "    <tr>\n",
       "      <th>Первомайское</th>\n",
       "      <td>2.0</td>\n",
       "    </tr>\n",
       "    <tr>\n",
       "      <th>Михайлово-Ярцевское</th>\n",
       "      <td>1.0</td>\n",
       "    </tr>\n",
       "  </tbody>\n",
       "</table>\n",
       "</div>"
      ],
      "text/plain": [
       "                     customers_cnt_home\n",
       "adm_name                               \n",
       "Вороновское                        10.0\n",
       "Роговское                           9.0\n",
       "Щаповское                           8.0\n",
       "Кленовское                          7.0\n",
       "Новофедоровское                     6.0\n",
       "Киевский                            5.0\n",
       "Краснопахорское                     4.0\n",
       "Троицк                              3.0\n",
       "Первомайское                        2.0\n",
       "Михайлово-Ярцевское                 1.0"
      ]
     },
     "execution_count": 49,
     "metadata": {},
     "output_type": "execute_result"
    }
   ],
   "source": [
    "# рейтинг административных районов\n",
    "troitsky_okrug_adm_work_rank = troitsky_okrug_adm_work.set_index('adm_name') \\\n",
    "                              .sort_values(by='customers_cnt_home', ascending=False).rank(ascending=True)\n",
    "troitsky_okrug_adm_work_rank"
   ]
  },
  {
   "cell_type": "code",
   "execution_count": 50,
   "id": "3d15b202",
   "metadata": {},
   "outputs": [
    {
     "data": {
      "image/png": "[encoded data removed]",
      "text/plain": [
       "<Figure size 300x300 with 1 Axes>"
      ]
     },
     "metadata": {},
     "output_type": "display_data"
    }
   ],
   "source": [
    "# визуализация рейтинг административных районов\n",
    "plt.figure(figsize=(3,3))\n",
    "sns.barplot(x = troitsky_okrug_adm_work_rank['customers_cnt_home'].values[:5], y = troitsky_okrug_adm_work_rank.index[:5], \\\n",
    "            palette=sns.color_palette(colors))\n",
    "plt.title('ТОП-5 административных районов\\nпо наличию рабочих мест\\nТроицкого административного округа', \\\n",
    "          c='r', fontweight='bold', fontsize=12)\n",
    "plt.xticks([])\n",
    "plt.box(on=None)\n",
    "plt.ylabel('')\n",
    "plt.show()"
   ]
  },
  {
   "cell_type": "code",
   "execution_count": 51,
   "id": "9ee225f9",
   "metadata": {},
   "outputs": [
    {
     "data": {
      "text/html": [
       "<div>\n",
       "<style scoped>\n",
       "    .dataframe tbody tr th:only-of-type {\n",
       "        vertical-align: middle;\n",
       "    }\n",
       "\n",
       "    .dataframe tbody tr th {\n",
       "        vertical-align: top;\n",
       "    }\n",
       "\n",
       "    .dataframe thead th {\n",
       "        text-align: right;\n",
       "    }\n",
       "</style>\n",
       "<table border=\"1\" class=\"dataframe\">\n",
       "  <thead>\n",
       "    <tr style=\"text-align: right;\">\n",
       "      <th></th>\n",
       "      <th>customers_cnt_home</th>\n",
       "    </tr>\n",
       "    <tr>\n",
       "      <th>adm_name</th>\n",
       "      <th></th>\n",
       "    </tr>\n",
       "  </thead>\n",
       "  <tbody>\n",
       "    <tr>\n",
       "      <th>Михайлово-Ярцевское</th>\n",
       "      <td>10.0</td>\n",
       "    </tr>\n",
       "    <tr>\n",
       "      <th>Первомайское</th>\n",
       "      <td>9.0</td>\n",
       "    </tr>\n",
       "    <tr>\n",
       "      <th>Троицк</th>\n",
       "      <td>8.0</td>\n",
       "    </tr>\n",
       "    <tr>\n",
       "      <th>Краснопахорское</th>\n",
       "      <td>7.0</td>\n",
       "    </tr>\n",
       "    <tr>\n",
       "      <th>Киевский</th>\n",
       "      <td>6.0</td>\n",
       "    </tr>\n",
       "    <tr>\n",
       "      <th>Новофедоровское</th>\n",
       "      <td>5.0</td>\n",
       "    </tr>\n",
       "    <tr>\n",
       "      <th>Кленовское</th>\n",
       "      <td>4.0</td>\n",
       "    </tr>\n",
       "    <tr>\n",
       "      <th>Щаповское</th>\n",
       "      <td>3.0</td>\n",
       "    </tr>\n",
       "    <tr>\n",
       "      <th>Роговское</th>\n",
       "      <td>2.0</td>\n",
       "    </tr>\n",
       "    <tr>\n",
       "      <th>Вороновское</th>\n",
       "      <td>1.0</td>\n",
       "    </tr>\n",
       "  </tbody>\n",
       "</table>\n",
       "</div>"
      ],
      "text/plain": [
       "                     customers_cnt_home\n",
       "adm_name                               \n",
       "Михайлово-Ярцевское                10.0\n",
       "Первомайское                        9.0\n",
       "Троицк                              8.0\n",
       "Краснопахорское                     7.0\n",
       "Киевский                            6.0\n",
       "Новофедоровское                     5.0\n",
       "Кленовское                          4.0\n",
       "Щаповское                           3.0\n",
       "Роговское                           2.0\n",
       "Вороновское                         1.0"
      ]
     },
     "execution_count": 51,
     "metadata": {},
     "output_type": "execute_result"
    }
   ],
   "source": [
    "# антирейтинг административных районов\n",
    "troitsky_okrug_adm_work_rank = troitsky_okrug_adm_work.set_index('adm_name') \\\n",
    "                              .sort_values(by='customers_cnt_home', ascending=True).rank(ascending=False)\n",
    "troitsky_okrug_adm_work_rank"
   ]
  },
  {
   "cell_type": "code",
   "execution_count": 52,
   "id": "af13b1b7",
   "metadata": {},
   "outputs": [
    {
     "data": {
      "image/png": "[encoded data removed]",
      "text/plain": [
       "<Figure size 300x300 with 1 Axes>"
      ]
     },
     "metadata": {},
     "output_type": "display_data"
    }
   ],
   "source": [
    "# визуализация рейтинг административных районов\n",
    "plt.figure(figsize=(3,3))\n",
    "sns.barplot(x = troitsky_okrug_adm_work_rank['customers_cnt_home'].values[:5], y = troitsky_okrug_adm_work_rank.index[:5], \\\n",
    "            palette=sns.color_palette(colors))\n",
    "plt.title('АнтиТОП-5 административных районов\\nпо наличию рабочих мест\\nТроицкого административного округа', \\\n",
    "          c='r', fontweight='bold', fontsize=12)\n",
    "plt.xticks([])\n",
    "plt.box(on=None)\n",
    "plt.ylabel('')\n",
    "plt.show()"
   ]
  },
  {
   "cell_type": "code",
   "execution_count": 53,
   "id": "80b2468d",
   "metadata": {},
   "outputs": [
    {
     "data": {
      "text/plain": [
       "adm_name_home\n",
       "Щаповское              0.136562\n",
       "Кленовское             0.150259\n",
       "Краснопахорское        0.172358\n",
       "Троицк                 0.207347\n",
       "Михайлово-Ярцевское    0.211006\n",
       "Первомайское           0.211243\n",
       "Вороновское            0.221854\n",
       "Роговское              0.256314\n",
       "Новофедоровское        0.372714\n",
       "Киевский               0.435835\n",
       "Name: distance, dtype: float64"
      ]
     },
     "execution_count": 53,
     "metadata": {},
     "output_type": "execute_result"
    }
   ],
   "source": [
    "# расчет средней дистанции перемещения по административным районам\n",
    "troitsky_okrug.groupby('adm_name_home')['distance'].mean().sort_values(ascending=True)"
   ]
  },
  {
   "cell_type": "code",
   "execution_count": 54,
   "id": "86f4247a",
   "metadata": {},
   "outputs": [
    {
     "data": {
      "text/plain": [
       "adm_name_home\n",
       "Щаповское              10.0\n",
       "Кленовское              9.0\n",
       "Краснопахорское         8.0\n",
       "Троицк                  7.0\n",
       "Михайлово-Ярцевское     6.0\n",
       "Первомайское            5.0\n",
       "Вороновское             4.0\n",
       "Роговское               3.0\n",
       "Новофедоровское         2.0\n",
       "Киевский                1.0\n",
       "Name: distance, dtype: float64"
      ]
     },
     "execution_count": 54,
     "metadata": {},
     "output_type": "execute_result"
    }
   ],
   "source": [
    "# рейтинг административных районов\n",
    "troitsky_okrug_adm_work_rank = troitsky_okrug.groupby('adm_name_home')['distance'].mean() \\\n",
    "                               .sort_values(ascending=True).rank(ascending=False)\n",
    "troitsky_okrug_adm_work_rank"
   ]
  },
  {
   "cell_type": "code",
   "execution_count": 55,
   "id": "5844031e",
   "metadata": {},
   "outputs": [
    {
     "data": {
      "image/png": "[encoded data removed]",
      "text/plain": [
       "<Figure size 300x300 with 1 Axes>"
      ]
     },
     "metadata": {},
     "output_type": "display_data"
    }
   ],
   "source": [
    "# визуализация рейтинг административных районов\n",
    "plt.figure(figsize=(3,3))\n",
    "sns.barplot(x = troitsky_okrug_adm_work_rank.values[:5], y = troitsky_okrug_adm_work_rank.index[:5], \\\n",
    "            palette=sns.color_palette(colors))\n",
    "plt.title('ТОП-5 административных районов\\nпо близости рабочих мест\\nТроицкого административного округа', \\\n",
    "          c='r', fontweight='bold', fontsize=12)\n",
    "plt.xticks([])\n",
    "plt.box(on=None)\n",
    "plt.ylabel('')\n",
    "plt.show()"
   ]
  },
  {
   "cell_type": "code",
   "execution_count": 56,
   "id": "499e1b3f",
   "metadata": {},
   "outputs": [
    {
     "data": {
      "text/plain": [
       "adm_name_home\n",
       "Киевский               10.0\n",
       "Новофедоровское         9.0\n",
       "Роговское               8.0\n",
       "Вороновское             7.0\n",
       "Первомайское            6.0\n",
       "Михайлово-Ярцевское     5.0\n",
       "Троицк                  4.0\n",
       "Краснопахорское         3.0\n",
       "Кленовское              2.0\n",
       "Щаповское               1.0\n",
       "Name: distance, dtype: float64"
      ]
     },
     "execution_count": 56,
     "metadata": {},
     "output_type": "execute_result"
    }
   ],
   "source": [
    "# антирейтинг административных районов\n",
    "troitsky_okrug_adm_work_rank = troitsky_okrug.groupby('adm_name_home')['distance'].mean() \\\n",
    "                               .sort_values(ascending=False).rank(ascending=True)\n",
    "troitsky_okrug_adm_work_rank"
   ]
  },
  {
   "cell_type": "code",
   "execution_count": 57,
   "id": "e699de9e",
   "metadata": {},
   "outputs": [
    {
     "data": {
      "image/png": "[encoded data removed]",
      "text/plain": [
       "<Figure size 300x300 with 1 Axes>"
      ]
     },
     "metadata": {},
     "output_type": "display_data"
    }
   ],
   "source": [
    "# визуализация рейтинг административных районов\n",
    "plt.figure(figsize=(3,3))\n",
    "sns.barplot(x = troitsky_okrug_adm_work_rank.values[:5], y = troitsky_okrug_adm_work_rank.index[:5], \\\n",
    "            palette=sns.color_palette(colors))\n",
    "plt.title('АнтиТОП-5 административных районов\\nпо близости рабочих мест\\nТроицкого административного округа', \\\n",
    "          c='r', fontweight='bold', fontsize=12)\n",
    "plt.xticks([])\n",
    "plt.box(on=None)\n",
    "plt.ylabel('')\n",
    "plt.show()"
   ]
  },
  {
   "cell_type": "code",
   "execution_count": null,
   "id": "8d3dcd15",
   "metadata": {},
   "outputs": [],
   "source": []
  }
 ],
 "metadata": {
  "kernelspec": {
   "display_name": "Python 3 (ipykernel)",
   "language": "python",
   "name": "python3"
  },
  "language_info": {
   "codemirror_mode": {
    "name": "ipython",
    "version": 3
   },
   "file_extension": ".py",
   "mimetype": "text/x-python",
   "name": "python",
   "nbconvert_exporter": "python",
   "pygments_lexer": "ipython3",
   "version": "3.10.6"
  }
 },
 "nbformat": 4,
 "nbformat_minor": 5
}
